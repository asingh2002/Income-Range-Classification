{
  "nbformat": 4,
  "nbformat_minor": 0,
  "metadata": {
    "colab": {
      "provenance": []
    },
    "kernelspec": {
      "name": "python3",
      "display_name": "Python 3"
    },
    "language_info": {
      "name": "python"
    }
  },
  "cells": [
    {
      "cell_type": "markdown",
      "source": [
        "# Problem Statement:\n",
        "You have been provided with the dataset that contains the information about the person and their salary range. Based on the given data, you need built a classification model using Naive Bayes Classification algorithm to predict the salary range of the person.\n",
        "* You may also build other classification algorithms for complementary purpose."
      ],
      "metadata": {
        "id": "6Bm-JfzP60lZ"
      }
    },
    {
      "cell_type": "markdown",
      "source": [
        "# Importing the libraries"
      ],
      "metadata": {
        "id": "T9RGwwl0HgdO"
      }
    },
    {
      "cell_type": "code",
      "execution_count": 1,
      "metadata": {
        "id": "ywHi0KAXG0Jz"
      },
      "outputs": [],
      "source": [
        "# For mathematical operations\n",
        "import numpy as np\n",
        "\n",
        "# For data manipulation\n",
        "import pandas as pd\n",
        "\n",
        "# For data visualisation\n",
        "import matplotlib.pyplot as plt\n",
        "\n",
        "# For data visualisation\n",
        "import seaborn as sns\n",
        "\n",
        "# For data cleaning\n",
        "import re\n",
        "\n",
        "# For loading the Naive Bayes Classification algorithm\n",
        "from sklearn.naive_bayes import GaussianNB\n",
        "\n",
        "# For loading the Logistic regression algorithm\n",
        "from sklearn.linear_model import LogisticRegression\n",
        "\n",
        "# For loading the Support Vector Classification algorithm\n",
        "from sklearn.svm import SVC\n",
        "\n",
        "# For loading the Decision Tree Classification algorithm\n",
        "from sklearn.tree import DecisionTreeClassifier\n",
        "\n",
        "# For loading the Random Forest classifier and Extra Tree classifier algorithm\n",
        "from sklearn.ensemble import RandomForestClassifier, ExtraTreesClassifier\n",
        "\n",
        "# For loading the KNeighbor Classification algorithm\n",
        "from sklearn.neighbors import KNeighborsClassifier\n",
        "\n",
        "# Accuracy metrics\n",
        "from sklearn.metrics import accuracy_score, confusion_matrix \n",
        "\n",
        "# For splitting the data and cross validation\n",
        "from sklearn.model_selection import train_test_split, KFold, StratifiedKFold, RandomizedSearchCV, GridSearchCV , cross_val_score\n",
        "\n",
        "# Coverting categorical data into numerical form\n",
        "from sklearn.preprocessing import LabelEncoder"
      ]
    },
    {
      "cell_type": "markdown",
      "source": [
        "# Importing the Dataset:\n",
        "\n",
        "Dataset link: https://drive.google.com/file/d/1Y4ufnEQyE9vpSRaSzDLC5-_QZxd6bIif/view?usp=sharing"
      ],
      "metadata": {
        "id": "WZje2PWe4a4w"
      }
    },
    {
      "cell_type": "code",
      "source": [
        "# Creating the list for columns names\n",
        "cols = ['age', 'workclass', 'id', 'education', 'education_num', 'martial_status', 'occupation',\n",
        "        'relationship', 'race', 'gender', 'capital_gain', 'capital_loss', 'hours_per_week',\n",
        "        'native_country', 'income']"
      ],
      "metadata": {
        "id": "sYtqanUr4WwH"
      },
      "execution_count": 2,
      "outputs": []
    },
    {
      "cell_type": "code",
      "source": [
        "df = pd.read_csv(\"/content/drive/MyDrive/ayush/Devtown/Project-10 salary classification/salary_range.csv\")"
      ],
      "metadata": {
        "id": "KF-dIRu-4WqA"
      },
      "execution_count": 3,
      "outputs": []
    },
    {
      "cell_type": "code",
      "source": [
        "# Assigning the columns names to dataframe\n",
        "df.columns = cols"
      ],
      "metadata": {
        "id": "_UFVMwcg4WtB"
      },
      "execution_count": 4,
      "outputs": []
    },
    {
      "cell_type": "markdown",
      "source": [
        "# Exploratory Data Analysis(EDA) - Data Exploration(DE), Data Manupulation(DM), Data Cleaning(DC) and Data Visualization(DV)"
      ],
      "metadata": {
        "id": "a8mfEwxgmmrY"
      }
    },
    {
      "cell_type": "code",
      "source": [
        "# First five rows of dataframe\n",
        "df.head()"
      ],
      "metadata": {
        "colab": {
          "base_uri": "https://localhost:8080/",
          "height": 206
        },
        "id": "IpDUnLE84Wzv",
        "outputId": "56f07410-551c-4a82-bef8-52bec1ba6c53"
      },
      "execution_count": 5,
      "outputs": [
        {
          "output_type": "execute_result",
          "data": {
            "text/plain": [
              "   age          workclass      id   education  education_num  \\\n",
              "0   50   Self-emp-not-inc   83311   Bachelors             13   \n",
              "1   38            Private  215646     HS-grad              9   \n",
              "2   53            Private  234721        11th              7   \n",
              "3   28            Private  338409   Bachelors             13   \n",
              "4   37            Private  284582     Masters             14   \n",
              "\n",
              "        martial_status          occupation    relationship    race   gender  \\\n",
              "0   Married-civ-spouse     Exec-managerial         Husband   White     Male   \n",
              "1             Divorced   Handlers-cleaners   Not-in-family   White     Male   \n",
              "2   Married-civ-spouse   Handlers-cleaners         Husband   Black     Male   \n",
              "3   Married-civ-spouse      Prof-specialty            Wife   Black   Female   \n",
              "4   Married-civ-spouse     Exec-managerial            Wife   White   Female   \n",
              "\n",
              "   capital_gain  capital_loss  hours_per_week  native_country  income  \n",
              "0             0             0              13   United-States   <=50K  \n",
              "1             0             0              40   United-States   <=50K  \n",
              "2             0             0              40   United-States   <=50K  \n",
              "3             0             0              40            Cuba   <=50K  \n",
              "4             0             0              40   United-States   <=50K  "
            ],
            "text/html": [
              "\n",
              "  <div id=\"df-7cb2a89a-7c38-4d2e-a3e2-0763de324b22\">\n",
              "    <div class=\"colab-df-container\">\n",
              "      <div>\n",
              "<style scoped>\n",
              "    .dataframe tbody tr th:only-of-type {\n",
              "        vertical-align: middle;\n",
              "    }\n",
              "\n",
              "    .dataframe tbody tr th {\n",
              "        vertical-align: top;\n",
              "    }\n",
              "\n",
              "    .dataframe thead th {\n",
              "        text-align: right;\n",
              "    }\n",
              "</style>\n",
              "<table border=\"1\" class=\"dataframe\">\n",
              "  <thead>\n",
              "    <tr style=\"text-align: right;\">\n",
              "      <th></th>\n",
              "      <th>age</th>\n",
              "      <th>workclass</th>\n",
              "      <th>id</th>\n",
              "      <th>education</th>\n",
              "      <th>education_num</th>\n",
              "      <th>martial_status</th>\n",
              "      <th>occupation</th>\n",
              "      <th>relationship</th>\n",
              "      <th>race</th>\n",
              "      <th>gender</th>\n",
              "      <th>capital_gain</th>\n",
              "      <th>capital_loss</th>\n",
              "      <th>hours_per_week</th>\n",
              "      <th>native_country</th>\n",
              "      <th>income</th>\n",
              "    </tr>\n",
              "  </thead>\n",
              "  <tbody>\n",
              "    <tr>\n",
              "      <th>0</th>\n",
              "      <td>50</td>\n",
              "      <td>Self-emp-not-inc</td>\n",
              "      <td>83311</td>\n",
              "      <td>Bachelors</td>\n",
              "      <td>13</td>\n",
              "      <td>Married-civ-spouse</td>\n",
              "      <td>Exec-managerial</td>\n",
              "      <td>Husband</td>\n",
              "      <td>White</td>\n",
              "      <td>Male</td>\n",
              "      <td>0</td>\n",
              "      <td>0</td>\n",
              "      <td>13</td>\n",
              "      <td>United-States</td>\n",
              "      <td>&lt;=50K</td>\n",
              "    </tr>\n",
              "    <tr>\n",
              "      <th>1</th>\n",
              "      <td>38</td>\n",
              "      <td>Private</td>\n",
              "      <td>215646</td>\n",
              "      <td>HS-grad</td>\n",
              "      <td>9</td>\n",
              "      <td>Divorced</td>\n",
              "      <td>Handlers-cleaners</td>\n",
              "      <td>Not-in-family</td>\n",
              "      <td>White</td>\n",
              "      <td>Male</td>\n",
              "      <td>0</td>\n",
              "      <td>0</td>\n",
              "      <td>40</td>\n",
              "      <td>United-States</td>\n",
              "      <td>&lt;=50K</td>\n",
              "    </tr>\n",
              "    <tr>\n",
              "      <th>2</th>\n",
              "      <td>53</td>\n",
              "      <td>Private</td>\n",
              "      <td>234721</td>\n",
              "      <td>11th</td>\n",
              "      <td>7</td>\n",
              "      <td>Married-civ-spouse</td>\n",
              "      <td>Handlers-cleaners</td>\n",
              "      <td>Husband</td>\n",
              "      <td>Black</td>\n",
              "      <td>Male</td>\n",
              "      <td>0</td>\n",
              "      <td>0</td>\n",
              "      <td>40</td>\n",
              "      <td>United-States</td>\n",
              "      <td>&lt;=50K</td>\n",
              "    </tr>\n",
              "    <tr>\n",
              "      <th>3</th>\n",
              "      <td>28</td>\n",
              "      <td>Private</td>\n",
              "      <td>338409</td>\n",
              "      <td>Bachelors</td>\n",
              "      <td>13</td>\n",
              "      <td>Married-civ-spouse</td>\n",
              "      <td>Prof-specialty</td>\n",
              "      <td>Wife</td>\n",
              "      <td>Black</td>\n",
              "      <td>Female</td>\n",
              "      <td>0</td>\n",
              "      <td>0</td>\n",
              "      <td>40</td>\n",
              "      <td>Cuba</td>\n",
              "      <td>&lt;=50K</td>\n",
              "    </tr>\n",
              "    <tr>\n",
              "      <th>4</th>\n",
              "      <td>37</td>\n",
              "      <td>Private</td>\n",
              "      <td>284582</td>\n",
              "      <td>Masters</td>\n",
              "      <td>14</td>\n",
              "      <td>Married-civ-spouse</td>\n",
              "      <td>Exec-managerial</td>\n",
              "      <td>Wife</td>\n",
              "      <td>White</td>\n",
              "      <td>Female</td>\n",
              "      <td>0</td>\n",
              "      <td>0</td>\n",
              "      <td>40</td>\n",
              "      <td>United-States</td>\n",
              "      <td>&lt;=50K</td>\n",
              "    </tr>\n",
              "  </tbody>\n",
              "</table>\n",
              "</div>\n",
              "      <button class=\"colab-df-convert\" onclick=\"convertToInteractive('df-7cb2a89a-7c38-4d2e-a3e2-0763de324b22')\"\n",
              "              title=\"Convert this dataframe to an interactive table.\"\n",
              "              style=\"display:none;\">\n",
              "        \n",
              "  <svg xmlns=\"http://www.w3.org/2000/svg\" height=\"24px\"viewBox=\"0 0 24 24\"\n",
              "       width=\"24px\">\n",
              "    <path d=\"M0 0h24v24H0V0z\" fill=\"none\"/>\n",
              "    <path d=\"M18.56 5.44l.94 2.06.94-2.06 2.06-.94-2.06-.94-.94-2.06-.94 2.06-2.06.94zm-11 1L8.5 8.5l.94-2.06 2.06-.94-2.06-.94L8.5 2.5l-.94 2.06-2.06.94zm10 10l.94 2.06.94-2.06 2.06-.94-2.06-.94-.94-2.06-.94 2.06-2.06.94z\"/><path d=\"M17.41 7.96l-1.37-1.37c-.4-.4-.92-.59-1.43-.59-.52 0-1.04.2-1.43.59L10.3 9.45l-7.72 7.72c-.78.78-.78 2.05 0 2.83L4 21.41c.39.39.9.59 1.41.59.51 0 1.02-.2 1.41-.59l7.78-7.78 2.81-2.81c.8-.78.8-2.07 0-2.86zM5.41 20L4 18.59l7.72-7.72 1.47 1.35L5.41 20z\"/>\n",
              "  </svg>\n",
              "      </button>\n",
              "      \n",
              "  <style>\n",
              "    .colab-df-container {\n",
              "      display:flex;\n",
              "      flex-wrap:wrap;\n",
              "      gap: 12px;\n",
              "    }\n",
              "\n",
              "    .colab-df-convert {\n",
              "      background-color: #E8F0FE;\n",
              "      border: none;\n",
              "      border-radius: 50%;\n",
              "      cursor: pointer;\n",
              "      display: none;\n",
              "      fill: #1967D2;\n",
              "      height: 32px;\n",
              "      padding: 0 0 0 0;\n",
              "      width: 32px;\n",
              "    }\n",
              "\n",
              "    .colab-df-convert:hover {\n",
              "      background-color: #E2EBFA;\n",
              "      box-shadow: 0px 1px 2px rgba(60, 64, 67, 0.3), 0px 1px 3px 1px rgba(60, 64, 67, 0.15);\n",
              "      fill: #174EA6;\n",
              "    }\n",
              "\n",
              "    [theme=dark] .colab-df-convert {\n",
              "      background-color: #3B4455;\n",
              "      fill: #D2E3FC;\n",
              "    }\n",
              "\n",
              "    [theme=dark] .colab-df-convert:hover {\n",
              "      background-color: #434B5C;\n",
              "      box-shadow: 0px 1px 3px 1px rgba(0, 0, 0, 0.15);\n",
              "      filter: drop-shadow(0px 1px 2px rgba(0, 0, 0, 0.3));\n",
              "      fill: #FFFFFF;\n",
              "    }\n",
              "  </style>\n",
              "\n",
              "      <script>\n",
              "        const buttonEl =\n",
              "          document.querySelector('#df-7cb2a89a-7c38-4d2e-a3e2-0763de324b22 button.colab-df-convert');\n",
              "        buttonEl.style.display =\n",
              "          google.colab.kernel.accessAllowed ? 'block' : 'none';\n",
              "\n",
              "        async function convertToInteractive(key) {\n",
              "          const element = document.querySelector('#df-7cb2a89a-7c38-4d2e-a3e2-0763de324b22');\n",
              "          const dataTable =\n",
              "            await google.colab.kernel.invokeFunction('convertToInteractive',\n",
              "                                                     [key], {});\n",
              "          if (!dataTable) return;\n",
              "\n",
              "          const docLinkHtml = 'Like what you see? Visit the ' +\n",
              "            '<a target=\"_blank\" href=https://colab.research.google.com/notebooks/data_table.ipynb>data table notebook</a>'\n",
              "            + ' to learn more about interactive tables.';\n",
              "          element.innerHTML = '';\n",
              "          dataTable['output_type'] = 'display_data';\n",
              "          await google.colab.output.renderOutput(dataTable, element);\n",
              "          const docLink = document.createElement('div');\n",
              "          docLink.innerHTML = docLinkHtml;\n",
              "          element.appendChild(docLink);\n",
              "        }\n",
              "      </script>\n",
              "    </div>\n",
              "  </div>\n",
              "  "
            ]
          },
          "metadata": {},
          "execution_count": 5
        }
      ]
    },
    {
      "cell_type": "code",
      "source": [
        "# Last five rows of dataframe\n",
        "df.tail()"
      ],
      "metadata": {
        "colab": {
          "base_uri": "https://localhost:8080/",
          "height": 206
        },
        "id": "yd9oqyNk4W2R",
        "outputId": "3a9fed0c-314b-4f84-ce3b-6ce31d7bbca2"
      },
      "execution_count": 6,
      "outputs": [
        {
          "output_type": "execute_result",
          "data": {
            "text/plain": [
              "       age      workclass      id    education  education_num  \\\n",
              "32555   27        Private  257302   Assoc-acdm             12   \n",
              "32556   40        Private  154374      HS-grad              9   \n",
              "32557   58        Private  151910      HS-grad              9   \n",
              "32558   22        Private  201490      HS-grad              9   \n",
              "32559   52   Self-emp-inc  287927      HS-grad              9   \n",
              "\n",
              "            martial_status          occupation relationship    race   gender  \\\n",
              "32555   Married-civ-spouse        Tech-support         Wife   White   Female   \n",
              "32556   Married-civ-spouse   Machine-op-inspct      Husband   White     Male   \n",
              "32557              Widowed        Adm-clerical    Unmarried   White   Female   \n",
              "32558        Never-married        Adm-clerical    Own-child   White     Male   \n",
              "32559   Married-civ-spouse     Exec-managerial         Wife   White   Female   \n",
              "\n",
              "       capital_gain  capital_loss  hours_per_week  native_country  income  \n",
              "32555             0             0              38   United-States   <=50K  \n",
              "32556             0             0              40   United-States    >50K  \n",
              "32557             0             0              40   United-States   <=50K  \n",
              "32558             0             0              20   United-States   <=50K  \n",
              "32559         15024             0              40   United-States    >50K  "
            ],
            "text/html": [
              "\n",
              "  <div id=\"df-c6550481-2dcd-4363-90a8-388b59ccca18\">\n",
              "    <div class=\"colab-df-container\">\n",
              "      <div>\n",
              "<style scoped>\n",
              "    .dataframe tbody tr th:only-of-type {\n",
              "        vertical-align: middle;\n",
              "    }\n",
              "\n",
              "    .dataframe tbody tr th {\n",
              "        vertical-align: top;\n",
              "    }\n",
              "\n",
              "    .dataframe thead th {\n",
              "        text-align: right;\n",
              "    }\n",
              "</style>\n",
              "<table border=\"1\" class=\"dataframe\">\n",
              "  <thead>\n",
              "    <tr style=\"text-align: right;\">\n",
              "      <th></th>\n",
              "      <th>age</th>\n",
              "      <th>workclass</th>\n",
              "      <th>id</th>\n",
              "      <th>education</th>\n",
              "      <th>education_num</th>\n",
              "      <th>martial_status</th>\n",
              "      <th>occupation</th>\n",
              "      <th>relationship</th>\n",
              "      <th>race</th>\n",
              "      <th>gender</th>\n",
              "      <th>capital_gain</th>\n",
              "      <th>capital_loss</th>\n",
              "      <th>hours_per_week</th>\n",
              "      <th>native_country</th>\n",
              "      <th>income</th>\n",
              "    </tr>\n",
              "  </thead>\n",
              "  <tbody>\n",
              "    <tr>\n",
              "      <th>32555</th>\n",
              "      <td>27</td>\n",
              "      <td>Private</td>\n",
              "      <td>257302</td>\n",
              "      <td>Assoc-acdm</td>\n",
              "      <td>12</td>\n",
              "      <td>Married-civ-spouse</td>\n",
              "      <td>Tech-support</td>\n",
              "      <td>Wife</td>\n",
              "      <td>White</td>\n",
              "      <td>Female</td>\n",
              "      <td>0</td>\n",
              "      <td>0</td>\n",
              "      <td>38</td>\n",
              "      <td>United-States</td>\n",
              "      <td>&lt;=50K</td>\n",
              "    </tr>\n",
              "    <tr>\n",
              "      <th>32556</th>\n",
              "      <td>40</td>\n",
              "      <td>Private</td>\n",
              "      <td>154374</td>\n",
              "      <td>HS-grad</td>\n",
              "      <td>9</td>\n",
              "      <td>Married-civ-spouse</td>\n",
              "      <td>Machine-op-inspct</td>\n",
              "      <td>Husband</td>\n",
              "      <td>White</td>\n",
              "      <td>Male</td>\n",
              "      <td>0</td>\n",
              "      <td>0</td>\n",
              "      <td>40</td>\n",
              "      <td>United-States</td>\n",
              "      <td>&gt;50K</td>\n",
              "    </tr>\n",
              "    <tr>\n",
              "      <th>32557</th>\n",
              "      <td>58</td>\n",
              "      <td>Private</td>\n",
              "      <td>151910</td>\n",
              "      <td>HS-grad</td>\n",
              "      <td>9</td>\n",
              "      <td>Widowed</td>\n",
              "      <td>Adm-clerical</td>\n",
              "      <td>Unmarried</td>\n",
              "      <td>White</td>\n",
              "      <td>Female</td>\n",
              "      <td>0</td>\n",
              "      <td>0</td>\n",
              "      <td>40</td>\n",
              "      <td>United-States</td>\n",
              "      <td>&lt;=50K</td>\n",
              "    </tr>\n",
              "    <tr>\n",
              "      <th>32558</th>\n",
              "      <td>22</td>\n",
              "      <td>Private</td>\n",
              "      <td>201490</td>\n",
              "      <td>HS-grad</td>\n",
              "      <td>9</td>\n",
              "      <td>Never-married</td>\n",
              "      <td>Adm-clerical</td>\n",
              "      <td>Own-child</td>\n",
              "      <td>White</td>\n",
              "      <td>Male</td>\n",
              "      <td>0</td>\n",
              "      <td>0</td>\n",
              "      <td>20</td>\n",
              "      <td>United-States</td>\n",
              "      <td>&lt;=50K</td>\n",
              "    </tr>\n",
              "    <tr>\n",
              "      <th>32559</th>\n",
              "      <td>52</td>\n",
              "      <td>Self-emp-inc</td>\n",
              "      <td>287927</td>\n",
              "      <td>HS-grad</td>\n",
              "      <td>9</td>\n",
              "      <td>Married-civ-spouse</td>\n",
              "      <td>Exec-managerial</td>\n",
              "      <td>Wife</td>\n",
              "      <td>White</td>\n",
              "      <td>Female</td>\n",
              "      <td>15024</td>\n",
              "      <td>0</td>\n",
              "      <td>40</td>\n",
              "      <td>United-States</td>\n",
              "      <td>&gt;50K</td>\n",
              "    </tr>\n",
              "  </tbody>\n",
              "</table>\n",
              "</div>\n",
              "      <button class=\"colab-df-convert\" onclick=\"convertToInteractive('df-c6550481-2dcd-4363-90a8-388b59ccca18')\"\n",
              "              title=\"Convert this dataframe to an interactive table.\"\n",
              "              style=\"display:none;\">\n",
              "        \n",
              "  <svg xmlns=\"http://www.w3.org/2000/svg\" height=\"24px\"viewBox=\"0 0 24 24\"\n",
              "       width=\"24px\">\n",
              "    <path d=\"M0 0h24v24H0V0z\" fill=\"none\"/>\n",
              "    <path d=\"M18.56 5.44l.94 2.06.94-2.06 2.06-.94-2.06-.94-.94-2.06-.94 2.06-2.06.94zm-11 1L8.5 8.5l.94-2.06 2.06-.94-2.06-.94L8.5 2.5l-.94 2.06-2.06.94zm10 10l.94 2.06.94-2.06 2.06-.94-2.06-.94-.94-2.06-.94 2.06-2.06.94z\"/><path d=\"M17.41 7.96l-1.37-1.37c-.4-.4-.92-.59-1.43-.59-.52 0-1.04.2-1.43.59L10.3 9.45l-7.72 7.72c-.78.78-.78 2.05 0 2.83L4 21.41c.39.39.9.59 1.41.59.51 0 1.02-.2 1.41-.59l7.78-7.78 2.81-2.81c.8-.78.8-2.07 0-2.86zM5.41 20L4 18.59l7.72-7.72 1.47 1.35L5.41 20z\"/>\n",
              "  </svg>\n",
              "      </button>\n",
              "      \n",
              "  <style>\n",
              "    .colab-df-container {\n",
              "      display:flex;\n",
              "      flex-wrap:wrap;\n",
              "      gap: 12px;\n",
              "    }\n",
              "\n",
              "    .colab-df-convert {\n",
              "      background-color: #E8F0FE;\n",
              "      border: none;\n",
              "      border-radius: 50%;\n",
              "      cursor: pointer;\n",
              "      display: none;\n",
              "      fill: #1967D2;\n",
              "      height: 32px;\n",
              "      padding: 0 0 0 0;\n",
              "      width: 32px;\n",
              "    }\n",
              "\n",
              "    .colab-df-convert:hover {\n",
              "      background-color: #E2EBFA;\n",
              "      box-shadow: 0px 1px 2px rgba(60, 64, 67, 0.3), 0px 1px 3px 1px rgba(60, 64, 67, 0.15);\n",
              "      fill: #174EA6;\n",
              "    }\n",
              "\n",
              "    [theme=dark] .colab-df-convert {\n",
              "      background-color: #3B4455;\n",
              "      fill: #D2E3FC;\n",
              "    }\n",
              "\n",
              "    [theme=dark] .colab-df-convert:hover {\n",
              "      background-color: #434B5C;\n",
              "      box-shadow: 0px 1px 3px 1px rgba(0, 0, 0, 0.15);\n",
              "      filter: drop-shadow(0px 1px 2px rgba(0, 0, 0, 0.3));\n",
              "      fill: #FFFFFF;\n",
              "    }\n",
              "  </style>\n",
              "\n",
              "      <script>\n",
              "        const buttonEl =\n",
              "          document.querySelector('#df-c6550481-2dcd-4363-90a8-388b59ccca18 button.colab-df-convert');\n",
              "        buttonEl.style.display =\n",
              "          google.colab.kernel.accessAllowed ? 'block' : 'none';\n",
              "\n",
              "        async function convertToInteractive(key) {\n",
              "          const element = document.querySelector('#df-c6550481-2dcd-4363-90a8-388b59ccca18');\n",
              "          const dataTable =\n",
              "            await google.colab.kernel.invokeFunction('convertToInteractive',\n",
              "                                                     [key], {});\n",
              "          if (!dataTable) return;\n",
              "\n",
              "          const docLinkHtml = 'Like what you see? Visit the ' +\n",
              "            '<a target=\"_blank\" href=https://colab.research.google.com/notebooks/data_table.ipynb>data table notebook</a>'\n",
              "            + ' to learn more about interactive tables.';\n",
              "          element.innerHTML = '';\n",
              "          dataTable['output_type'] = 'display_data';\n",
              "          await google.colab.output.renderOutput(dataTable, element);\n",
              "          const docLink = document.createElement('div');\n",
              "          docLink.innerHTML = docLinkHtml;\n",
              "          element.appendChild(docLink);\n",
              "        }\n",
              "      </script>\n",
              "    </div>\n",
              "  </div>\n",
              "  "
            ]
          },
          "metadata": {},
          "execution_count": 6
        }
      ]
    },
    {
      "cell_type": "code",
      "source": [
        "# General information of the dataframe\n",
        "df.info()"
      ],
      "metadata": {
        "colab": {
          "base_uri": "https://localhost:8080/"
        },
        "id": "NdWId3vm4W4T",
        "outputId": "2bef70ed-9a16-443b-da5d-d32ffc54c53a"
      },
      "execution_count": 7,
      "outputs": [
        {
          "output_type": "stream",
          "name": "stdout",
          "text": [
            "<class 'pandas.core.frame.DataFrame'>\n",
            "RangeIndex: 32560 entries, 0 to 32559\n",
            "Data columns (total 15 columns):\n",
            " #   Column          Non-Null Count  Dtype \n",
            "---  ------          --------------  ----- \n",
            " 0   age             32560 non-null  int64 \n",
            " 1   workclass       32560 non-null  object\n",
            " 2   id              32560 non-null  int64 \n",
            " 3   education       32560 non-null  object\n",
            " 4   education_num   32560 non-null  int64 \n",
            " 5   martial_status  32560 non-null  object\n",
            " 6   occupation      32560 non-null  object\n",
            " 7   relationship    32560 non-null  object\n",
            " 8   race            32560 non-null  object\n",
            " 9   gender          32560 non-null  object\n",
            " 10  capital_gain    32560 non-null  int64 \n",
            " 11  capital_loss    32560 non-null  int64 \n",
            " 12  hours_per_week  32560 non-null  int64 \n",
            " 13  native_country  32560 non-null  object\n",
            " 14  income          32560 non-null  object\n",
            "dtypes: int64(6), object(9)\n",
            "memory usage: 3.7+ MB\n"
          ]
        }
      ]
    },
    {
      "cell_type": "code",
      "source": [
        "# Shape of dataframe\n",
        "df.shape"
      ],
      "metadata": {
        "colab": {
          "base_uri": "https://localhost:8080/"
        },
        "id": "53hdvuZK4W6w",
        "outputId": "99304abf-df97-442c-dee3-b17f1a569a69"
      },
      "execution_count": 8,
      "outputs": [
        {
          "output_type": "execute_result",
          "data": {
            "text/plain": [
              "(32560, 15)"
            ]
          },
          "metadata": {},
          "execution_count": 8
        }
      ]
    },
    {
      "cell_type": "code",
      "source": [
        "# Columns in dataframe\n",
        "df.columns"
      ],
      "metadata": {
        "colab": {
          "base_uri": "https://localhost:8080/"
        },
        "id": "7bm6076rm6e7",
        "outputId": "cb4afebb-5a0b-45bd-cf76-3636382372f1"
      },
      "execution_count": 9,
      "outputs": [
        {
          "output_type": "execute_result",
          "data": {
            "text/plain": [
              "Index(['age', 'workclass', 'id', 'education', 'education_num',\n",
              "       'martial_status', 'occupation', 'relationship', 'race', 'gender',\n",
              "       'capital_gain', 'capital_loss', 'hours_per_week', 'native_country',\n",
              "       'income'],\n",
              "      dtype='object')"
            ]
          },
          "metadata": {},
          "execution_count": 9
        }
      ]
    },
    {
      "cell_type": "code",
      "source": [
        "# Sum of null values in each column of dataframe\n",
        "df.isna().sum()"
      ],
      "metadata": {
        "colab": {
          "base_uri": "https://localhost:8080/"
        },
        "id": "pJJzJvq64W94",
        "outputId": "350f6fb3-b21e-4dcf-95c0-24406f1862d4"
      },
      "execution_count": 10,
      "outputs": [
        {
          "output_type": "execute_result",
          "data": {
            "text/plain": [
              "age               0\n",
              "workclass         0\n",
              "id                0\n",
              "education         0\n",
              "education_num     0\n",
              "martial_status    0\n",
              "occupation        0\n",
              "relationship      0\n",
              "race              0\n",
              "gender            0\n",
              "capital_gain      0\n",
              "capital_loss      0\n",
              "hours_per_week    0\n",
              "native_country    0\n",
              "income            0\n",
              "dtype: int64"
            ]
          },
          "metadata": {},
          "execution_count": 10
        }
      ]
    },
    {
      "cell_type": "code",
      "source": [
        "# Sum of null values in whole dataset\n",
        "df.isna().sum().sum()"
      ],
      "metadata": {
        "colab": {
          "base_uri": "https://localhost:8080/"
        },
        "id": "gYTTWzwh_gGI",
        "outputId": "61dafb7b-2c80-4622-d761-0da458ee76c5"
      },
      "execution_count": 11,
      "outputs": [
        {
          "output_type": "execute_result",
          "data": {
            "text/plain": [
              "0"
            ]
          },
          "metadata": {},
          "execution_count": 11
        }
      ]
    },
    {
      "cell_type": "code",
      "source": [
        "# Statistical information of age column\n",
        "df.age.describe()"
      ],
      "metadata": {
        "colab": {
          "base_uri": "https://localhost:8080/"
        },
        "id": "V4UvTdSD_gJQ",
        "outputId": "4bbcda82-71e5-4617-accf-e81fb441ba1a"
      },
      "execution_count": 12,
      "outputs": [
        {
          "output_type": "execute_result",
          "data": {
            "text/plain": [
              "count    32560.000000\n",
              "mean        38.581634\n",
              "std         13.640642\n",
              "min         17.000000\n",
              "25%         28.000000\n",
              "50%         37.000000\n",
              "75%         48.000000\n",
              "max         90.000000\n",
              "Name: age, dtype: float64"
            ]
          },
          "metadata": {},
          "execution_count": 12
        }
      ]
    },
    {
      "cell_type": "code",
      "source": [
        "# Unique values in workclass column\n",
        "df.workclass.unique()"
      ],
      "metadata": {
        "colab": {
          "base_uri": "https://localhost:8080/"
        },
        "id": "4Ec4JcP2_gMg",
        "outputId": "3b548976-5be0-42f6-d551-8e588289ae0a"
      },
      "execution_count": 13,
      "outputs": [
        {
          "output_type": "execute_result",
          "data": {
            "text/plain": [
              "array([' Self-emp-not-inc', ' Private', ' State-gov', ' Federal-gov',\n",
              "       ' Local-gov', ' ?', ' Self-emp-inc', ' Without-pay',\n",
              "       ' Never-worked'], dtype=object)"
            ]
          },
          "metadata": {},
          "execution_count": 13
        }
      ]
    },
    {
      "cell_type": "code",
      "source": [
        "# Sum of unique values in workclass column\n",
        "df.workclass.value_counts()"
      ],
      "metadata": {
        "colab": {
          "base_uri": "https://localhost:8080/"
        },
        "id": "1eZ_uRRdAFar",
        "outputId": "90324e04-dd5f-4906-832e-16a205cc2ba2"
      },
      "execution_count": 14,
      "outputs": [
        {
          "output_type": "execute_result",
          "data": {
            "text/plain": [
              " Private             22696\n",
              " Self-emp-not-inc     2541\n",
              " Local-gov            2093\n",
              " ?                    1836\n",
              " State-gov            1297\n",
              " Self-emp-inc         1116\n",
              " Federal-gov           960\n",
              " Without-pay            14\n",
              " Never-worked            7\n",
              "Name: workclass, dtype: int64"
            ]
          },
          "metadata": {},
          "execution_count": 14
        }
      ]
    },
    {
      "cell_type": "markdown",
      "source": [
        "* As there is a white space in the beginning of each value of the workclass columns we need to remove it."
      ],
      "metadata": {
        "id": "SgY8i5UoC3dL"
      }
    },
    {
      "cell_type": "code",
      "source": [
        "for i in range(len(df.workclass)):\n",
        "  df.workclass[i] = (re.sub('^\\s', '', df.workclass[i]))"
      ],
      "metadata": {
        "colab": {
          "base_uri": "https://localhost:8080/"
        },
        "id": "vcxQ9cgmDNwF",
        "outputId": "73ade49b-2573-40df-ecbd-2c99343804d4"
      },
      "execution_count": 15,
      "outputs": [
        {
          "output_type": "stream",
          "name": "stderr",
          "text": [
            "<ipython-input-15-fd2ed50f0d57>:2: SettingWithCopyWarning: \n",
            "A value is trying to be set on a copy of a slice from a DataFrame\n",
            "\n",
            "See the caveats in the documentation: https://pandas.pydata.org/pandas-docs/stable/user_guide/indexing.html#returning-a-view-versus-a-copy\n",
            "  df.workclass[i] = (re.sub('^\\s', '', df.workclass[i]))\n"
          ]
        }
      ]
    },
    {
      "cell_type": "code",
      "source": [
        "df.workclass[1]"
      ],
      "metadata": {
        "colab": {
          "base_uri": "https://localhost:8080/",
          "height": 36
        },
        "id": "qP-f-cSfDx4U",
        "outputId": "ef15629c-3cab-4f2c-825c-fe852ed25287"
      },
      "execution_count": 16,
      "outputs": [
        {
          "output_type": "execute_result",
          "data": {
            "text/plain": [
              "'Private'"
            ],
            "application/vnd.google.colaboratory.intrinsic+json": {
              "type": "string"
            }
          },
          "metadata": {},
          "execution_count": 16
        }
      ]
    },
    {
      "cell_type": "markdown",
      "source": [
        "* Now the white space has been removed."
      ],
      "metadata": {
        "id": "VGwvw_pUD3mk"
      }
    },
    {
      "cell_type": "code",
      "source": [
        "# Values in education column which are having the workclass as \"?\"\n",
        "df['education'][df['workclass']==\"?\"].value_counts()"
      ],
      "metadata": {
        "colab": {
          "base_uri": "https://localhost:8080/"
        },
        "id": "qsttOlUwAFdR",
        "outputId": "2a934beb-f465-4f80-85df-b08b9a23db71"
      },
      "execution_count": 17,
      "outputs": [
        {
          "output_type": "execute_result",
          "data": {
            "text/plain": [
              " HS-grad         532\n",
              " Some-college    514\n",
              " Bachelors       173\n",
              " 11th            118\n",
              " 10th            100\n",
              " 7th-8th          72\n",
              " Assoc-voc        61\n",
              " 9th              51\n",
              " Masters          48\n",
              " Assoc-acdm       47\n",
              " 12th             40\n",
              " 5th-6th          30\n",
              " Prof-school      18\n",
              " Doctorate        15\n",
              " 1st-4th          12\n",
              " Preschool         5\n",
              "Name: education, dtype: int64"
            ]
          },
          "metadata": {},
          "execution_count": 17
        }
      ]
    },
    {
      "cell_type": "markdown",
      "source": [
        "* We have observed that when the education is \"HS-grad\" and \"Some_college\" the occurance of workclass as \"?\" is having the high frequency. "
      ],
      "metadata": {
        "id": "TKUJdXJtET_c"
      }
    },
    {
      "cell_type": "code",
      "source": [
        "# Finding the most occured value in workclass who are having the education as \"HS-grad\"\n",
        "df['workclass'][df['education']==\" HS-grad\"].value_counts()"
      ],
      "metadata": {
        "colab": {
          "base_uri": "https://localhost:8080/"
        },
        "id": "6o6pvL0KAFfU",
        "outputId": "a96cf257-b59f-41d3-e48b-99f62f98e169"
      },
      "execution_count": 18,
      "outputs": [
        {
          "output_type": "execute_result",
          "data": {
            "text/plain": [
              "Private             7780\n",
              "Self-emp-not-inc     866\n",
              "?                    532\n",
              "Local-gov            503\n",
              "Self-emp-inc         279\n",
              "State-gov            268\n",
              "Federal-gov          263\n",
              "Without-pay            9\n",
              "Never-worked           1\n",
              "Name: workclass, dtype: int64"
            ]
          },
          "metadata": {},
          "execution_count": 18
        }
      ]
    },
    {
      "cell_type": "code",
      "source": [
        "# Finding the most occured value in workclass who are having the education as \"Some-college\"\n",
        "df['workclass'][df['education']==\" Some-college\"].value_counts()"
      ],
      "metadata": {
        "colab": {
          "base_uri": "https://localhost:8080/"
        },
        "id": "swczFsR-AFjb",
        "outputId": "70b0baa2-4dd2-43b7-de8b-c4d6ae0d1a7f"
      },
      "execution_count": 19,
      "outputs": [
        {
          "output_type": "execute_result",
          "data": {
            "text/plain": [
              "Private             5094\n",
              "?                    514\n",
              "Self-emp-not-inc     486\n",
              "Local-gov            387\n",
              "State-gov            325\n",
              "Federal-gov          254\n",
              "Self-emp-inc         226\n",
              "Without-pay            3\n",
              "Never-worked           2\n",
              "Name: workclass, dtype: int64"
            ]
          },
          "metadata": {},
          "execution_count": 19
        }
      ]
    },
    {
      "cell_type": "markdown",
      "source": [
        "* Based on the above two analysis we can replace the workclass which is having the values as \"?\" with \"Private\""
      ],
      "metadata": {
        "id": "BdIW_uaXFulb"
      }
    },
    {
      "cell_type": "code",
      "source": [
        "# Replacing in workclass column \"?\" with \"Private\"\n",
        "df['workclass'] = df['workclass'].replace(\"?\", \"Private\")"
      ],
      "metadata": {
        "id": "8fRzuD8XGGBy"
      },
      "execution_count": 20,
      "outputs": []
    },
    {
      "cell_type": "code",
      "source": [
        "# Sum of unique values in workclass column\n",
        "df.workclass.value_counts()"
      ],
      "metadata": {
        "colab": {
          "base_uri": "https://localhost:8080/"
        },
        "id": "Cc4_FD5PGGEM",
        "outputId": "318c0037-bfcf-4f92-f8c9-2f8e846327eb"
      },
      "execution_count": 21,
      "outputs": [
        {
          "output_type": "execute_result",
          "data": {
            "text/plain": [
              "Private             24532\n",
              "Self-emp-not-inc     2541\n",
              "Local-gov            2093\n",
              "State-gov            1297\n",
              "Self-emp-inc         1116\n",
              "Federal-gov           960\n",
              "Without-pay            14\n",
              "Never-worked            7\n",
              "Name: workclass, dtype: int64"
            ]
          },
          "metadata": {},
          "execution_count": 21
        }
      ]
    },
    {
      "cell_type": "markdown",
      "source": [
        "* Coverting all the various categories of government \"Local-gov\", \"State-gov\" and \"Federal-gov\" to a single \"Government\" category."
      ],
      "metadata": {
        "id": "Ek4OgzlfHkD6"
      }
    },
    {
      "cell_type": "code",
      "source": [
        "# Replacing in workclass column \"Local-gov\", \"State-gov\" and \"Federal-gov\" with \"Government\"\n",
        "df['workclass'] = df['workclass'].replace([\"Local-gov\", \"State-gov\", \"Federal-gov\"],[\"Government\", \"Government\", \"Government\"])"
      ],
      "metadata": {
        "id": "lZ_nNtKzGGIt"
      },
      "execution_count": 22,
      "outputs": []
    },
    {
      "cell_type": "code",
      "source": [
        "# Sum of unique values in workclass column\n",
        "df.workclass.value_counts()"
      ],
      "metadata": {
        "colab": {
          "base_uri": "https://localhost:8080/"
        },
        "id": "Mt3iWweaGGLk",
        "outputId": "d7b6b183-0e2b-45db-b1ff-146b207ea763"
      },
      "execution_count": 23,
      "outputs": [
        {
          "output_type": "execute_result",
          "data": {
            "text/plain": [
              "Private             24532\n",
              "Government           4350\n",
              "Self-emp-not-inc     2541\n",
              "Self-emp-inc         1116\n",
              "Without-pay            14\n",
              "Never-worked            7\n",
              "Name: workclass, dtype: int64"
            ]
          },
          "metadata": {},
          "execution_count": 23
        }
      ]
    },
    {
      "cell_type": "code",
      "source": [
        "# Creating the object for label encoder\n",
        "enc = LabelEncoder()"
      ],
      "metadata": {
        "id": "Pfn0xlDqGGOD"
      },
      "execution_count": 24,
      "outputs": []
    },
    {
      "cell_type": "code",
      "source": [
        "# Applying label encoder\n",
        "df.workclass = enc.fit_transform(df.workclass)"
      ],
      "metadata": {
        "id": "F7n8CmKXIJFM"
      },
      "execution_count": 25,
      "outputs": []
    },
    {
      "cell_type": "code",
      "source": [
        "# Sum of unique values in workclass column\n",
        "df.workclass.value_counts()"
      ],
      "metadata": {
        "colab": {
          "base_uri": "https://localhost:8080/"
        },
        "id": "GHH2lGbxIJLd",
        "outputId": "66af4351-ebe3-4f0f-835d-111f6be8bcbf"
      },
      "execution_count": 26,
      "outputs": [
        {
          "output_type": "execute_result",
          "data": {
            "text/plain": [
              "2    24532\n",
              "0     4350\n",
              "4     2541\n",
              "3     1116\n",
              "5       14\n",
              "1        7\n",
              "Name: workclass, dtype: int64"
            ]
          },
          "metadata": {},
          "execution_count": 26
        }
      ]
    },
    {
      "cell_type": "markdown",
      "source": [
        " Substituted in workclass column:\n",
        "\n",
        "Government    ->       0\n",
        "\n",
        "Never-worked ->     1\n",
        "\n",
        "Private     ->        2\n",
        "\n",
        "Self-emp-inc        -> 3\n",
        "\n",
        "Self-emp-not-inc    -> 4\n",
        "\n",
        "Without-pay          ->  5\n",
        "\n",
        "\n",
        "\n"
      ],
      "metadata": {
        "id": "PzwguilwIX1k"
      }
    },
    {
      "cell_type": "code",
      "source": [
        "# As \"id\" is not having any significant effect on the price range so we are dropping it \n",
        "df.drop(\"id\", axis = 1, inplace = True)"
      ],
      "metadata": {
        "id": "DdXVNlW2IJQ4"
      },
      "execution_count": 27,
      "outputs": []
    },
    {
      "cell_type": "code",
      "source": [
        "# Unique values in education column\n",
        "df.education.unique()"
      ],
      "metadata": {
        "colab": {
          "base_uri": "https://localhost:8080/"
        },
        "id": "s7MJ7-hzJjgV",
        "outputId": "e7961004-62d2-481f-c52b-fcd214f59ac8"
      },
      "execution_count": 28,
      "outputs": [
        {
          "output_type": "execute_result",
          "data": {
            "text/plain": [
              "array([' Bachelors', ' HS-grad', ' 11th', ' Masters', ' 9th',\n",
              "       ' Some-college', ' Assoc-acdm', ' Assoc-voc', ' 7th-8th',\n",
              "       ' Doctorate', ' Prof-school', ' 5th-6th', ' 10th', ' 1st-4th',\n",
              "       ' Preschool', ' 12th'], dtype=object)"
            ]
          },
          "metadata": {},
          "execution_count": 28
        }
      ]
    },
    {
      "cell_type": "code",
      "source": [
        "# Sum of unique values in education column\n",
        "df.education.value_counts()"
      ],
      "metadata": {
        "colab": {
          "base_uri": "https://localhost:8080/"
        },
        "id": "1ewhj5aQJjjM",
        "outputId": "ba34df18-1899-4269-ae7d-f137c920fa78"
      },
      "execution_count": 29,
      "outputs": [
        {
          "output_type": "execute_result",
          "data": {
            "text/plain": [
              " HS-grad         10501\n",
              " Some-college     7291\n",
              " Bachelors        5354\n",
              " Masters          1723\n",
              " Assoc-voc        1382\n",
              " 11th             1175\n",
              " Assoc-acdm       1067\n",
              " 10th              933\n",
              " 7th-8th           646\n",
              " Prof-school       576\n",
              " 9th               514\n",
              " 12th              433\n",
              " Doctorate         413\n",
              " 5th-6th           333\n",
              " 1st-4th           168\n",
              " Preschool          51\n",
              "Name: education, dtype: int64"
            ]
          },
          "metadata": {},
          "execution_count": 29
        }
      ]
    },
    {
      "cell_type": "code",
      "source": [
        "# List of all the categories which belongs to school\n",
        "lis = [' Preschool', ' 1st-4th', ' 5th-6th', ' 7th-8th', ' 9th', ' 10th', ' 11th', ' 12th', ' HS-grad']"
      ],
      "metadata": {
        "id": "mz5M1MouJjlY"
      },
      "execution_count": 30,
      "outputs": []
    },
    {
      "cell_type": "code",
      "source": [
        "# Replacing the values in the lis as \"School\" category\n",
        "df.education.replace(lis, [\"School\" for i in range(len(lis))], inplace = True)"
      ],
      "metadata": {
        "id": "nukJWlrEJjpV"
      },
      "execution_count": 31,
      "outputs": []
    },
    {
      "cell_type": "code",
      "source": [
        "# Sum of unique values in education column\n",
        "df.education.value_counts()"
      ],
      "metadata": {
        "colab": {
          "base_uri": "https://localhost:8080/"
        },
        "id": "pXX2Ml_fLF7l",
        "outputId": "48f9fd7c-bd91-4527-893d-026bc83dc7b5"
      },
      "execution_count": 32,
      "outputs": [
        {
          "output_type": "execute_result",
          "data": {
            "text/plain": [
              "School           14754\n",
              " Some-college     7291\n",
              " Bachelors        5354\n",
              " Masters          1723\n",
              " Assoc-voc        1382\n",
              " Assoc-acdm       1067\n",
              " Prof-school       576\n",
              " Doctorate         413\n",
              "Name: education, dtype: int64"
            ]
          },
          "metadata": {},
          "execution_count": 32
        }
      ]
    },
    {
      "cell_type": "markdown",
      "source": [
        "* Removing the white space."
      ],
      "metadata": {
        "id": "ue53RrnONTQH"
      }
    },
    {
      "cell_type": "code",
      "source": [
        "for i in range(len(df.education)):\n",
        "  df.education[i] = re.sub('^\\s', '', df.education[i])"
      ],
      "metadata": {
        "colab": {
          "base_uri": "https://localhost:8080/"
        },
        "id": "Rk6O3VwPLF-Z",
        "outputId": "ca2619ec-0770-4a27-fbb8-2e89123daf6c"
      },
      "execution_count": 33,
      "outputs": [
        {
          "output_type": "stream",
          "name": "stderr",
          "text": [
            "<ipython-input-33-011baeedd893>:2: SettingWithCopyWarning: \n",
            "A value is trying to be set on a copy of a slice from a DataFrame\n",
            "\n",
            "See the caveats in the documentation: https://pandas.pydata.org/pandas-docs/stable/user_guide/indexing.html#returning-a-view-versus-a-copy\n",
            "  df.education[i] = re.sub('^\\s', '', df.education[i])\n"
          ]
        }
      ]
    },
    {
      "cell_type": "code",
      "source": [
        "# Sum of unique values in education column\n",
        "df.education.value_counts()"
      ],
      "metadata": {
        "colab": {
          "base_uri": "https://localhost:8080/"
        },
        "id": "kEYhNm6kLGAw",
        "outputId": "c370bc80-1f0d-4f72-a2fb-4e0d5687cd1f"
      },
      "execution_count": 34,
      "outputs": [
        {
          "output_type": "execute_result",
          "data": {
            "text/plain": [
              "School          14754\n",
              "Some-college     7291\n",
              "Bachelors        5354\n",
              "Masters          1723\n",
              "Assoc-voc        1382\n",
              "Assoc-acdm       1067\n",
              "Prof-school       576\n",
              "Doctorate         413\n",
              "Name: education, dtype: int64"
            ]
          },
          "metadata": {},
          "execution_count": 34
        }
      ]
    },
    {
      "cell_type": "code",
      "source": [
        "# Applying label encoder\n",
        "df.education = enc.fit_transform(df.education)"
      ],
      "metadata": {
        "id": "u3FXkf3gLrrE"
      },
      "execution_count": 35,
      "outputs": []
    },
    {
      "cell_type": "code",
      "source": [
        "# Sum of unique values in education column\n",
        "df.education.value_counts()"
      ],
      "metadata": {
        "colab": {
          "base_uri": "https://localhost:8080/"
        },
        "id": "tMBtIS93Lrt1",
        "outputId": "27878114-7cd3-448b-d4cc-c31f11eb9d95"
      },
      "execution_count": 36,
      "outputs": [
        {
          "output_type": "execute_result",
          "data": {
            "text/plain": [
              "6    14754\n",
              "7     7291\n",
              "2     5354\n",
              "4     1723\n",
              "1     1382\n",
              "0     1067\n",
              "5      576\n",
              "3      413\n",
              "Name: education, dtype: int64"
            ]
          },
          "metadata": {},
          "execution_count": 36
        }
      ]
    },
    {
      "cell_type": "markdown",
      "source": [
        "Substituted in education column:\n",
        "\n",
        "\n",
        "Assoc-acdm     ->  0\n",
        "\n",
        "Assoc-voc    ->    1\n",
        "\n",
        "Bachelors       -> 2\n",
        "\n",
        "Doctorate -> 3\n",
        "\n",
        "Masters       ->   4\n",
        "\n",
        "Prof-school  ->     5\n",
        "\n",
        "School      ->    6"
      ],
      "metadata": {
        "id": "ILQidRBXL41e"
      }
    },
    {
      "cell_type": "code",
      "source": [
        "# Statistical information of education_num column\n",
        "df.education_num.describe()"
      ],
      "metadata": {
        "colab": {
          "base_uri": "https://localhost:8080/"
        },
        "id": "2JQt1Qo9Lry-",
        "outputId": "419bdc82-3e8c-46ee-c15e-4a7a1bde1f48"
      },
      "execution_count": 37,
      "outputs": [
        {
          "output_type": "execute_result",
          "data": {
            "text/plain": [
              "count    32560.000000\n",
              "mean        10.080590\n",
              "std          2.572709\n",
              "min          1.000000\n",
              "25%          9.000000\n",
              "50%         10.000000\n",
              "75%         12.000000\n",
              "max         16.000000\n",
              "Name: education_num, dtype: float64"
            ]
          },
          "metadata": {},
          "execution_count": 37
        }
      ]
    },
    {
      "cell_type": "code",
      "source": [
        "# Sum of unique values in martial_status column\n",
        "df.martial_status.value_counts()"
      ],
      "metadata": {
        "colab": {
          "base_uri": "https://localhost:8080/"
        },
        "id": "56wfDMplNGMu",
        "outputId": "370d64d0-76d8-45af-c035-18818d8ab7a3"
      },
      "execution_count": 38,
      "outputs": [
        {
          "output_type": "execute_result",
          "data": {
            "text/plain": [
              " Married-civ-spouse       14976\n",
              " Never-married            10682\n",
              " Divorced                  4443\n",
              " Separated                 1025\n",
              " Widowed                    993\n",
              " Married-spouse-absent      418\n",
              " Married-AF-spouse           23\n",
              "Name: martial_status, dtype: int64"
            ]
          },
          "metadata": {},
          "execution_count": 38
        }
      ]
    },
    {
      "cell_type": "markdown",
      "source": [
        "* Removing the white space."
      ],
      "metadata": {
        "id": "5ihqmX-5Nc5Z"
      }
    },
    {
      "cell_type": "code",
      "source": [
        "for i in range(len(df.martial_status)):\n",
        "  df.martial_status[i] = re.sub('^\\s', '', df.martial_status[i])"
      ],
      "metadata": {
        "colab": {
          "base_uri": "https://localhost:8080/"
        },
        "outputId": "e9bc4c11-2881-4bf6-fa24-47c69b119f24",
        "id": "SuqyTz46Nc5f"
      },
      "execution_count": 39,
      "outputs": [
        {
          "output_type": "stream",
          "name": "stderr",
          "text": [
            "<ipython-input-39-18d23c9f0d89>:2: SettingWithCopyWarning: \n",
            "A value is trying to be set on a copy of a slice from a DataFrame\n",
            "\n",
            "See the caveats in the documentation: https://pandas.pydata.org/pandas-docs/stable/user_guide/indexing.html#returning-a-view-versus-a-copy\n",
            "  df.martial_status[i] = re.sub('^\\s', '', df.martial_status[i])\n"
          ]
        }
      ]
    },
    {
      "cell_type": "code",
      "source": [
        "# Replacing in martial_status column \"Separated\" with \"Divorced\"\n",
        "df.martial_status = df.martial_status.replace(\"Separated\", \"Divorced\")"
      ],
      "metadata": {
        "id": "O4FCrKMrNGT-"
      },
      "execution_count": 40,
      "outputs": []
    },
    {
      "cell_type": "code",
      "source": [
        "# Sum of unique values in martial_status column\n",
        "df.martial_status.value_counts()"
      ],
      "metadata": {
        "colab": {
          "base_uri": "https://localhost:8080/"
        },
        "id": "BRR-Tvg6NGW-",
        "outputId": "3568e51a-7f72-413b-8968-0f99cedcda08"
      },
      "execution_count": 41,
      "outputs": [
        {
          "output_type": "execute_result",
          "data": {
            "text/plain": [
              "Married-civ-spouse       14976\n",
              "Never-married            10682\n",
              "Divorced                  5468\n",
              "Widowed                    993\n",
              "Married-spouse-absent      418\n",
              "Married-AF-spouse           23\n",
              "Name: martial_status, dtype: int64"
            ]
          },
          "metadata": {},
          "execution_count": 41
        }
      ]
    },
    {
      "cell_type": "code",
      "source": [
        "# Applying label encoder\n",
        "df.martial_status = enc.fit_transform(df.martial_status)"
      ],
      "metadata": {
        "id": "t7MAgO17OOoI"
      },
      "execution_count": 42,
      "outputs": []
    },
    {
      "cell_type": "code",
      "source": [
        "# Sum of unique values in martial_status column\n",
        "df.martial_status.value_counts()"
      ],
      "metadata": {
        "colab": {
          "base_uri": "https://localhost:8080/"
        },
        "outputId": "b38bcfa1-46a5-4e46-e5ac-eb4001804477",
        "id": "3kwh9CjhOOoJ"
      },
      "execution_count": 43,
      "outputs": [
        {
          "output_type": "execute_result",
          "data": {
            "text/plain": [
              "2    14976\n",
              "4    10682\n",
              "0     5468\n",
              "5      993\n",
              "3      418\n",
              "1       23\n",
              "Name: martial_status, dtype: int64"
            ]
          },
          "metadata": {},
          "execution_count": 43
        }
      ]
    },
    {
      "cell_type": "markdown",
      "source": [
        "Substituted for martial_status column:\n",
        "\n",
        "Divorced                  -> 0\n",
        "\n",
        "Married-AF-spouse  -> 1\n",
        "\n",
        "Married-civ-spouse       -> 2\n",
        "\n",
        "Married-spouse-absent     -> 3\n",
        "\n",
        "Never-married            -> 4\n",
        "\n",
        "Widowed                   -> 5 \n"
      ],
      "metadata": {
        "id": "IsTmEN3-OXcf"
      }
    },
    {
      "cell_type": "code",
      "source": [
        "# Sum of unique values in occupation column\n",
        "df.occupation.value_counts()"
      ],
      "metadata": {
        "colab": {
          "base_uri": "https://localhost:8080/"
        },
        "id": "ytUHd9s-O-lX",
        "outputId": "4df0b296-cf97-496b-a31c-ff1a4a52bd4c"
      },
      "execution_count": 44,
      "outputs": [
        {
          "output_type": "execute_result",
          "data": {
            "text/plain": [
              " Prof-specialty       4140\n",
              " Craft-repair         4099\n",
              " Exec-managerial      4066\n",
              " Adm-clerical         3769\n",
              " Sales                3650\n",
              " Other-service        3295\n",
              " Machine-op-inspct    2002\n",
              " ?                    1843\n",
              " Transport-moving     1597\n",
              " Handlers-cleaners    1370\n",
              " Farming-fishing       994\n",
              " Tech-support          928\n",
              " Protective-serv       649\n",
              " Priv-house-serv       149\n",
              " Armed-Forces            9\n",
              "Name: occupation, dtype: int64"
            ]
          },
          "metadata": {},
          "execution_count": 44
        }
      ]
    },
    {
      "cell_type": "markdown",
      "source": [
        "* Removing the white space."
      ],
      "metadata": {
        "id": "Liz9n2M7PKeK"
      }
    },
    {
      "cell_type": "code",
      "source": [
        "for i in range(len(df.occupation)):\n",
        "  df.occupation[i] = re.sub('^\\s', '', df.occupation[i])"
      ],
      "metadata": {
        "colab": {
          "base_uri": "https://localhost:8080/"
        },
        "outputId": "e69fdcb6-aa70-49eb-da4f-894d1c58b46f",
        "id": "Awds_LMcPKeK"
      },
      "execution_count": 45,
      "outputs": [
        {
          "output_type": "stream",
          "name": "stderr",
          "text": [
            "<ipython-input-45-dce3fcafe21b>:2: SettingWithCopyWarning: \n",
            "A value is trying to be set on a copy of a slice from a DataFrame\n",
            "\n",
            "See the caveats in the documentation: https://pandas.pydata.org/pandas-docs/stable/user_guide/indexing.html#returning-a-view-versus-a-copy\n",
            "  df.occupation[i] = re.sub('^\\s', '', df.occupation[i])\n"
          ]
        }
      ]
    },
    {
      "cell_type": "code",
      "source": [
        "# Replacing in occupation column \"?\" with \"Other-service\"\n",
        "df.occupation = df.occupation.replace(\"?\", \"Other-service\")"
      ],
      "metadata": {
        "id": "J68kvp9iPdcc"
      },
      "execution_count": 46,
      "outputs": []
    },
    {
      "cell_type": "code",
      "source": [
        "# Sum of unique values in occupation column\n",
        "df.occupation.value_counts()"
      ],
      "metadata": {
        "colab": {
          "base_uri": "https://localhost:8080/"
        },
        "outputId": "873628bb-6805-49b9-e7ae-101aea14c320",
        "id": "re1pjWEyPdcd"
      },
      "execution_count": 47,
      "outputs": [
        {
          "output_type": "execute_result",
          "data": {
            "text/plain": [
              "Other-service        5138\n",
              "Prof-specialty       4140\n",
              "Craft-repair         4099\n",
              "Exec-managerial      4066\n",
              "Adm-clerical         3769\n",
              "Sales                3650\n",
              "Machine-op-inspct    2002\n",
              "Transport-moving     1597\n",
              "Handlers-cleaners    1370\n",
              "Farming-fishing       994\n",
              "Tech-support          928\n",
              "Protective-serv       649\n",
              "Priv-house-serv       149\n",
              "Armed-Forces            9\n",
              "Name: occupation, dtype: int64"
            ]
          },
          "metadata": {},
          "execution_count": 47
        }
      ]
    },
    {
      "cell_type": "code",
      "source": [
        "# Applying label encoder\n",
        "df.occupation = enc.fit_transform(df.occupation)"
      ],
      "metadata": {
        "id": "Pcrb2MOfP1Nr"
      },
      "execution_count": 48,
      "outputs": []
    },
    {
      "cell_type": "code",
      "source": [
        "# Sum of unique values in occupation column\n",
        "df.occupation.value_counts()"
      ],
      "metadata": {
        "colab": {
          "base_uri": "https://localhost:8080/"
        },
        "outputId": "48af38e5-6b75-4145-e922-50fb67c40702",
        "id": "OaQBoAK6P1Ns"
      },
      "execution_count": 49,
      "outputs": [
        {
          "output_type": "execute_result",
          "data": {
            "text/plain": [
              "7     5138\n",
              "9     4140\n",
              "2     4099\n",
              "3     4066\n",
              "0     3769\n",
              "11    3650\n",
              "6     2002\n",
              "13    1597\n",
              "5     1370\n",
              "4      994\n",
              "12     928\n",
              "10     649\n",
              "8      149\n",
              "1        9\n",
              "Name: occupation, dtype: int64"
            ]
          },
          "metadata": {},
          "execution_count": 49
        }
      ]
    },
    {
      "cell_type": "markdown",
      "source": [
        "Substituted for occupation column:\n",
        "\n",
        "\n",
        "Adm-clerical     -> 0\n",
        "\n",
        "Armed-Forces      -> 1\n",
        "\n",
        "Craft-repair    -> 2\n",
        "\n",
        "Exec-managerial    ->3\n",
        "\n",
        "Farming-fishing     -> 4\n",
        "\n",
        "Handlers-cleaners  -> 5\n",
        "\n",
        "Machine-op-inspct  -> 6\n",
        "\n",
        "Other-service    ->    7\n",
        "\n",
        "Priv-house-serv    -> 8\n",
        "\n",
        "Prof-specialty      -> 9\n",
        "\n",
        "Protective-serv     -> 10\n",
        "\n",
        "Sales             -> 11\n",
        "\n",
        "Tech-support        -> 12\n",
        "\n",
        "Transport-moving   -> 13\n",
        "\n"
      ],
      "metadata": {
        "id": "Mk69LwFYQZc3"
      }
    },
    {
      "cell_type": "code",
      "source": [
        "# Sum of unique values in relationship column\n",
        "df.relationship.value_counts()"
      ],
      "metadata": {
        "colab": {
          "base_uri": "https://localhost:8080/"
        },
        "id": "lfwiRV0vPaJF",
        "outputId": "ed48b836-5ca3-44b4-8ec6-d8359148f166"
      },
      "execution_count": 50,
      "outputs": [
        {
          "output_type": "execute_result",
          "data": {
            "text/plain": [
              " Husband           13193\n",
              " Not-in-family      8304\n",
              " Own-child          5068\n",
              " Unmarried          3446\n",
              " Wife               1568\n",
              " Other-relative      981\n",
              "Name: relationship, dtype: int64"
            ]
          },
          "metadata": {},
          "execution_count": 50
        }
      ]
    },
    {
      "cell_type": "markdown",
      "source": [
        "* Removing the white space."
      ],
      "metadata": {
        "id": "s1z88Hg4R_BH"
      }
    },
    {
      "cell_type": "code",
      "source": [
        "for i in range(len(df.relationship)):\n",
        "  df.relationship[i] = re.sub('^\\s', '', df.relationship[i])"
      ],
      "metadata": {
        "colab": {
          "base_uri": "https://localhost:8080/"
        },
        "outputId": "403e4e94-aeb8-432e-f245-123f31436353",
        "id": "Ge9Od6u9R_BZ"
      },
      "execution_count": 51,
      "outputs": [
        {
          "output_type": "stream",
          "name": "stderr",
          "text": [
            "<ipython-input-51-41365c0bca73>:2: SettingWithCopyWarning: \n",
            "A value is trying to be set on a copy of a slice from a DataFrame\n",
            "\n",
            "See the caveats in the documentation: https://pandas.pydata.org/pandas-docs/stable/user_guide/indexing.html#returning-a-view-versus-a-copy\n",
            "  df.relationship[i] = re.sub('^\\s', '', df.relationship[i])\n"
          ]
        }
      ]
    },
    {
      "cell_type": "code",
      "source": [
        "# Replacing in relationship column \"Husband\", \"Wife\" with \"Spouse\"\n",
        "df.relationship = df.relationship.replace([\"Husband\", \"Wife\"], [\"Spouse\", \"Spouse\"])"
      ],
      "metadata": {
        "id": "gET6QNJXR_Ba"
      },
      "execution_count": 52,
      "outputs": []
    },
    {
      "cell_type": "code",
      "source": [
        "# Sum of unique values in relationship column\n",
        "df.relationship.value_counts()"
      ],
      "metadata": {
        "colab": {
          "base_uri": "https://localhost:8080/"
        },
        "outputId": "12e7ad5b-d230-487e-89ee-cdb9c624f8b2",
        "id": "BDbZLgxvR_Ba"
      },
      "execution_count": 53,
      "outputs": [
        {
          "output_type": "execute_result",
          "data": {
            "text/plain": [
              "Spouse            14761\n",
              "Not-in-family      8304\n",
              "Own-child          5068\n",
              "Unmarried          3446\n",
              "Other-relative      981\n",
              "Name: relationship, dtype: int64"
            ]
          },
          "metadata": {},
          "execution_count": 53
        }
      ]
    },
    {
      "cell_type": "code",
      "source": [
        "# Applying label encoder\n",
        "df.relationship = enc.fit_transform(df.relationship)"
      ],
      "metadata": {
        "id": "Kpm7INXRR_Bb"
      },
      "execution_count": 54,
      "outputs": []
    },
    {
      "cell_type": "code",
      "source": [
        "# Sum of unique values in relationship column\n",
        "df.relationship.value_counts()"
      ],
      "metadata": {
        "colab": {
          "base_uri": "https://localhost:8080/"
        },
        "outputId": "86cc2e21-dd1f-44d1-aeca-f69110573fb4",
        "id": "rSCS2RuxR_Bb"
      },
      "execution_count": 55,
      "outputs": [
        {
          "output_type": "execute_result",
          "data": {
            "text/plain": [
              "3    14761\n",
              "0     8304\n",
              "2     5068\n",
              "4     3446\n",
              "1      981\n",
              "Name: relationship, dtype: int64"
            ]
          },
          "metadata": {},
          "execution_count": 55
        }
      ]
    },
    {
      "cell_type": "markdown",
      "source": [
        "Substituted in relationship column:\n",
        "\n",
        "\n",
        "Not-in-family   -> 0\n",
        "\n",
        "Other-relative -> 1\n",
        "\n",
        "Own-child       -> 2\n",
        "\n",
        "Spouse         -> 3\n",
        "\n",
        "\n",
        "Unmarried      -> 4"
      ],
      "metadata": {
        "id": "MtYMuasYS_F_"
      }
    },
    {
      "cell_type": "code",
      "source": [
        "# Sum of unique values in race column\n",
        "df.race.value_counts()"
      ],
      "metadata": {
        "colab": {
          "base_uri": "https://localhost:8080/"
        },
        "outputId": "b861d636-3376-480a-a161-e6ddb95ee4cb",
        "id": "0aXu5PXlTm9s"
      },
      "execution_count": 56,
      "outputs": [
        {
          "output_type": "execute_result",
          "data": {
            "text/plain": [
              " White                 27815\n",
              " Black                  3124\n",
              " Asian-Pac-Islander     1039\n",
              " Amer-Indian-Eskimo      311\n",
              " Other                   271\n",
              "Name: race, dtype: int64"
            ]
          },
          "metadata": {},
          "execution_count": 56
        }
      ]
    },
    {
      "cell_type": "markdown",
      "source": [
        "* Removing the white space."
      ],
      "metadata": {
        "id": "dY7yyIOHTm98"
      }
    },
    {
      "cell_type": "code",
      "source": [
        "for i in range(len(df.race)):\n",
        "  df.race[i] = re.sub('^\\s', '', df.race[i])"
      ],
      "metadata": {
        "colab": {
          "base_uri": "https://localhost:8080/"
        },
        "outputId": "b5167b25-de93-4011-8b1b-a24a47c9edb4",
        "id": "PC34eZUkTm98"
      },
      "execution_count": 57,
      "outputs": [
        {
          "output_type": "stream",
          "name": "stderr",
          "text": [
            "<ipython-input-57-4a3975a03cb2>:2: SettingWithCopyWarning: \n",
            "A value is trying to be set on a copy of a slice from a DataFrame\n",
            "\n",
            "See the caveats in the documentation: https://pandas.pydata.org/pandas-docs/stable/user_guide/indexing.html#returning-a-view-versus-a-copy\n",
            "  df.race[i] = re.sub('^\\s', '', df.race[i])\n"
          ]
        }
      ]
    },
    {
      "cell_type": "code",
      "source": [
        "# Sum of unique values in race column\n",
        "df.race.value_counts()"
      ],
      "metadata": {
        "colab": {
          "base_uri": "https://localhost:8080/"
        },
        "outputId": "0d993bcd-9c98-4535-85ac-a2f13f3771f7",
        "id": "A1tj0Z5PTm99"
      },
      "execution_count": 58,
      "outputs": [
        {
          "output_type": "execute_result",
          "data": {
            "text/plain": [
              "White                 27815\n",
              "Black                  3124\n",
              "Asian-Pac-Islander     1039\n",
              "Amer-Indian-Eskimo      311\n",
              "Other                   271\n",
              "Name: race, dtype: int64"
            ]
          },
          "metadata": {},
          "execution_count": 58
        }
      ]
    },
    {
      "cell_type": "code",
      "source": [
        "# Applying label encoder\n",
        "df.race = enc.fit_transform(df.race)"
      ],
      "metadata": {
        "id": "1lmH2IOQTm99"
      },
      "execution_count": 59,
      "outputs": []
    },
    {
      "cell_type": "code",
      "source": [
        "# Sum of unique values in race column\n",
        "df.race.value_counts()"
      ],
      "metadata": {
        "colab": {
          "base_uri": "https://localhost:8080/"
        },
        "outputId": "5ceba13e-8ea4-4a1e-829a-8223c0b78abc",
        "id": "fTbOJ3PPTm99"
      },
      "execution_count": 60,
      "outputs": [
        {
          "output_type": "execute_result",
          "data": {
            "text/plain": [
              "4    27815\n",
              "2     3124\n",
              "1     1039\n",
              "0      311\n",
              "3      271\n",
              "Name: race, dtype: int64"
            ]
          },
          "metadata": {},
          "execution_count": 60
        }
      ]
    },
    {
      "cell_type": "markdown",
      "source": [
        "Substituted in race column:\n",
        "\n",
        "Amer-Indian-Eskimo    -> 0\n",
        "\n",
        "Asian-Pac-Islander   -> 1\n",
        "\n",
        "Black               ->   2\n",
        "\n",
        "Other     -> 3\n",
        "\n",
        "White             ->    4"
      ],
      "metadata": {
        "id": "3dzR9GA2Tm9-"
      }
    },
    {
      "cell_type": "code",
      "source": [
        "# Sum of unique values in gender column\n",
        "df.gender.value_counts()"
      ],
      "metadata": {
        "colab": {
          "base_uri": "https://localhost:8080/"
        },
        "outputId": "2c430a15-1b56-4236-f6ca-1d0d96e3a3d2",
        "id": "rIjfiehMUncl"
      },
      "execution_count": 61,
      "outputs": [
        {
          "output_type": "execute_result",
          "data": {
            "text/plain": [
              " Male      21789\n",
              " Female    10771\n",
              "Name: gender, dtype: int64"
            ]
          },
          "metadata": {},
          "execution_count": 61
        }
      ]
    },
    {
      "cell_type": "markdown",
      "source": [
        "* Removing the white space."
      ],
      "metadata": {
        "id": "65j5KORDUncl"
      }
    },
    {
      "cell_type": "code",
      "source": [
        "for i in range(len(df.gender)):\n",
        "  df.gender[i] = re.sub('^\\s', '', df.gender[i])"
      ],
      "metadata": {
        "colab": {
          "base_uri": "https://localhost:8080/"
        },
        "outputId": "50108a24-a89b-446f-d820-1ac2cb4ff3a4",
        "id": "2iHDHGv5Uncm"
      },
      "execution_count": 62,
      "outputs": [
        {
          "output_type": "stream",
          "name": "stderr",
          "text": [
            "<ipython-input-62-6a60ecb27106>:2: SettingWithCopyWarning: \n",
            "A value is trying to be set on a copy of a slice from a DataFrame\n",
            "\n",
            "See the caveats in the documentation: https://pandas.pydata.org/pandas-docs/stable/user_guide/indexing.html#returning-a-view-versus-a-copy\n",
            "  df.gender[i] = re.sub('^\\s', '', df.gender[i])\n"
          ]
        }
      ]
    },
    {
      "cell_type": "code",
      "source": [
        "# Sum of unique values in gender column\n",
        "df.gender.value_counts()"
      ],
      "metadata": {
        "colab": {
          "base_uri": "https://localhost:8080/"
        },
        "outputId": "c81dcc39-c94b-4271-cc44-259ec91b50bd",
        "id": "E_dbhlfJUncm"
      },
      "execution_count": 63,
      "outputs": [
        {
          "output_type": "execute_result",
          "data": {
            "text/plain": [
              "Male      21789\n",
              "Female    10771\n",
              "Name: gender, dtype: int64"
            ]
          },
          "metadata": {},
          "execution_count": 63
        }
      ]
    },
    {
      "cell_type": "code",
      "source": [
        "# Applying label encoder\n",
        "df.gender = enc.fit_transform(df.gender)"
      ],
      "metadata": {
        "id": "RWLy1UxrUncn"
      },
      "execution_count": 64,
      "outputs": []
    },
    {
      "cell_type": "code",
      "source": [
        "# Sum of unique values in gender column\n",
        "df.gender.value_counts()"
      ],
      "metadata": {
        "colab": {
          "base_uri": "https://localhost:8080/"
        },
        "outputId": "2183c974-15eb-4761-ea12-20cf253d8862",
        "id": "b_JPyMfiUncn"
      },
      "execution_count": 65,
      "outputs": [
        {
          "output_type": "execute_result",
          "data": {
            "text/plain": [
              "1    21789\n",
              "0    10771\n",
              "Name: gender, dtype: int64"
            ]
          },
          "metadata": {},
          "execution_count": 65
        }
      ]
    },
    {
      "cell_type": "markdown",
      "source": [
        "Substituted in gender column:\n",
        "\n",
        "Female    -> 0\n",
        "\n",
        "Male   -> 1\n"
      ],
      "metadata": {
        "id": "ptk2qEbJUncn"
      }
    },
    {
      "cell_type": "code",
      "source": [
        "# Sum of unique values in gender column\n",
        "df.native_country.value_counts()"
      ],
      "metadata": {
        "colab": {
          "base_uri": "https://localhost:8080/"
        },
        "id": "5-1ydWBDTcHI",
        "outputId": "4a314a30-5273-4cdd-97e4-004d12a19cee"
      },
      "execution_count": 66,
      "outputs": [
        {
          "output_type": "execute_result",
          "data": {
            "text/plain": [
              " United-States                 29169\n",
              " Mexico                          643\n",
              " ?                               583\n",
              " Philippines                     198\n",
              " Germany                         137\n",
              " Canada                          121\n",
              " Puerto-Rico                     114\n",
              " El-Salvador                     106\n",
              " India                           100\n",
              " Cuba                             95\n",
              " England                          90\n",
              " Jamaica                          81\n",
              " South                            80\n",
              " China                            75\n",
              " Italy                            73\n",
              " Dominican-Republic               70\n",
              " Vietnam                          67\n",
              " Guatemala                        64\n",
              " Japan                            62\n",
              " Poland                           60\n",
              " Columbia                         59\n",
              " Taiwan                           51\n",
              " Haiti                            44\n",
              " Iran                             43\n",
              " Portugal                         37\n",
              " Nicaragua                        34\n",
              " Peru                             31\n",
              " France                           29\n",
              " Greece                           29\n",
              " Ecuador                          28\n",
              " Ireland                          24\n",
              " Hong                             20\n",
              " Cambodia                         19\n",
              " Trinadad&Tobago                  19\n",
              " Laos                             18\n",
              " Thailand                         18\n",
              " Yugoslavia                       16\n",
              " Outlying-US(Guam-USVI-etc)       14\n",
              " Honduras                         13\n",
              " Hungary                          13\n",
              " Scotland                         12\n",
              " Holand-Netherlands                1\n",
              "Name: native_country, dtype: int64"
            ]
          },
          "metadata": {},
          "execution_count": 66
        }
      ]
    },
    {
      "cell_type": "markdown",
      "source": [
        "* Removing the white space."
      ],
      "metadata": {
        "id": "AqS_tFxrVZbo"
      }
    },
    {
      "cell_type": "code",
      "source": [
        "for i in range(len(df.native_country)):\n",
        "  df.native_country[i] = re.sub('^\\s', '', df.native_country[i])"
      ],
      "metadata": {
        "colab": {
          "base_uri": "https://localhost:8080/"
        },
        "outputId": "12862305-239f-4e99-d082-e9a3c856c519",
        "id": "vFlhXC7HVZcB"
      },
      "execution_count": 67,
      "outputs": [
        {
          "output_type": "stream",
          "name": "stderr",
          "text": [
            "<ipython-input-67-e266f32891d2>:2: SettingWithCopyWarning: \n",
            "A value is trying to be set on a copy of a slice from a DataFrame\n",
            "\n",
            "See the caveats in the documentation: https://pandas.pydata.org/pandas-docs/stable/user_guide/indexing.html#returning-a-view-versus-a-copy\n",
            "  df.native_country[i] = re.sub('^\\s', '', df.native_country[i])\n"
          ]
        }
      ]
    },
    {
      "cell_type": "code",
      "source": [
        "# Replacing in the native_country column \"?\" with \"Others\"\n",
        "df.native_country = df.native_country.replace('?',\"Others\")"
      ],
      "metadata": {
        "id": "WyPiBSYBVxYR"
      },
      "execution_count": 68,
      "outputs": []
    },
    {
      "cell_type": "code",
      "source": [
        "# Sum of unique values in native_country column\n",
        "df.native_country.value_counts()"
      ],
      "metadata": {
        "colab": {
          "base_uri": "https://localhost:8080/"
        },
        "outputId": "ef15ee51-0c33-4976-a810-cbbecc92cfd6",
        "id": "_M5V60YWVZcD"
      },
      "execution_count": 69,
      "outputs": [
        {
          "output_type": "execute_result",
          "data": {
            "text/plain": [
              "United-States                 29169\n",
              "Mexico                          643\n",
              "Others                          583\n",
              "Philippines                     198\n",
              "Germany                         137\n",
              "Canada                          121\n",
              "Puerto-Rico                     114\n",
              "El-Salvador                     106\n",
              "India                           100\n",
              "Cuba                             95\n",
              "England                          90\n",
              "Jamaica                          81\n",
              "South                            80\n",
              "China                            75\n",
              "Italy                            73\n",
              "Dominican-Republic               70\n",
              "Vietnam                          67\n",
              "Guatemala                        64\n",
              "Japan                            62\n",
              "Poland                           60\n",
              "Columbia                         59\n",
              "Taiwan                           51\n",
              "Haiti                            44\n",
              "Iran                             43\n",
              "Portugal                         37\n",
              "Nicaragua                        34\n",
              "Peru                             31\n",
              "France                           29\n",
              "Greece                           29\n",
              "Ecuador                          28\n",
              "Ireland                          24\n",
              "Hong                             20\n",
              "Cambodia                         19\n",
              "Trinadad&Tobago                  19\n",
              "Laos                             18\n",
              "Thailand                         18\n",
              "Yugoslavia                       16\n",
              "Outlying-US(Guam-USVI-etc)       14\n",
              "Honduras                         13\n",
              "Hungary                          13\n",
              "Scotland                         12\n",
              "Holand-Netherlands                1\n",
              "Name: native_country, dtype: int64"
            ]
          },
          "metadata": {},
          "execution_count": 69
        }
      ]
    },
    {
      "cell_type": "code",
      "source": [
        "# Unique values in native_country column\n",
        "df.native_country.unique()"
      ],
      "metadata": {
        "colab": {
          "base_uri": "https://localhost:8080/"
        },
        "id": "lhzswqP7WqFG",
        "outputId": "feab0967-908e-4a56-e5d4-ec4fd7c37466"
      },
      "execution_count": 70,
      "outputs": [
        {
          "output_type": "execute_result",
          "data": {
            "text/plain": [
              "array(['United-States', 'Cuba', 'Jamaica', 'India', 'Others', 'Mexico',\n",
              "       'South', 'Puerto-Rico', 'Honduras', 'England', 'Canada', 'Germany',\n",
              "       'Iran', 'Philippines', 'Italy', 'Poland', 'Columbia', 'Cambodia',\n",
              "       'Thailand', 'Ecuador', 'Laos', 'Taiwan', 'Haiti', 'Portugal',\n",
              "       'Dominican-Republic', 'El-Salvador', 'France', 'Guatemala',\n",
              "       'China', 'Japan', 'Yugoslavia', 'Peru',\n",
              "       'Outlying-US(Guam-USVI-etc)', 'Scotland', 'Trinadad&Tobago',\n",
              "       'Greece', 'Nicaragua', 'Vietnam', 'Hong', 'Ireland', 'Hungary',\n",
              "       'Holand-Netherlands'], dtype=object)"
            ]
          },
          "metadata": {},
          "execution_count": 70
        }
      ]
    },
    {
      "cell_type": "code",
      "source": [
        "# Total no. of unique values in native_country column\n",
        "df.native_country.nunique()"
      ],
      "metadata": {
        "colab": {
          "base_uri": "https://localhost:8080/"
        },
        "id": "qVwEwvyfXNyM",
        "outputId": "55fd12a6-1b84-4473-c288-440c01882005"
      },
      "execution_count": 71,
      "outputs": [
        {
          "output_type": "execute_result",
          "data": {
            "text/plain": [
              "42"
            ]
          },
          "metadata": {},
          "execution_count": 71
        }
      ]
    },
    {
      "cell_type": "markdown",
      "source": [
        "* As there are so many countries , so we will classify them into different continents based on the countries.\n",
        "\n",
        "1. North America: United States, Cuba, Jamaica, Mexico, Puerto-Rico, Honduras,Canada, Outlying-US(Guam-USVI-etc), Haiti, Dominican-Republic, El-Salvador,Guatemala, Trinadad&Tobago, Nicaragua.(14)\n",
        "2. South America: Columbia, Ecuador, Peru, South.(4)\n",
        "3. Europe: England, Germany, Italy, Poland, Portugal, France, Yugoslavia,Scotland, Greece, Ireland, Holand-Netherlands, Hungary.(12)\n",
        "4. Asia: India, Iran, Philippines, China, Japan, Cambodia, Thailand, Laos,Taiwan, Vietnam,Hong.(11)\n",
        "5. Others:\n"
      ],
      "metadata": {
        "id": "btwHKzh2XRPg"
      }
    },
    {
      "cell_type": "markdown",
      "source": [
        "* Creating the list of countries of each continent."
      ],
      "metadata": {
        "id": "QaZe063BihiN"
      }
    },
    {
      "cell_type": "code",
      "source": [
        "N_A = ['United-States', 'Cuba', 'Jamaica', 'Mexico', 'Puerto-Rico', 'Honduras','Canada', 'Outlying-US(Guam-USVI-etc)', 'Haiti', 'Dominican-Republic', 'El-Salvador','Guatemala', 'Trinadad&Tobago', 'Nicaragua']\n",
        "S_A = ['Columbia', 'Ecuador', 'Peru', 'South']\n",
        "E_U = ['England', 'Germany', 'Italy', 'Poland', 'Portugal', 'France', 'Yugoslavia', 'Scotland', 'Greece', 'Ireland', 'Holand-Netherlands', 'Hungary']\n",
        "A_S = ['India', 'Iran', 'Philippines', 'China', 'Japan', 'Cambodia', 'Thailand', 'Laos', 'Taiwan', 'Vietnam', 'Hong']"
      ],
      "metadata": {
        "id": "HJBXNAkne1P1"
      },
      "execution_count": 72,
      "outputs": []
    },
    {
      "cell_type": "markdown",
      "source": [
        "* Replacing the names of the countries with their continent names."
      ],
      "metadata": {
        "id": "iai6JRHeio-3"
      }
    },
    {
      "cell_type": "code",
      "source": [
        "df.native_country = df.native_country.replace(N_A, [\"North_America\" for i in range(len(N_A))])\n",
        "df.native_country = df.native_country.replace(S_A, [\"South_America\" for i in range(len(S_A))])\n",
        "df.native_country = df.native_country.replace(E_U, [\"Europe\" for i in range(len(E_U))])\n",
        "df.native_country = df.native_country.replace(A_S, [\"Asia\" for i in range(len(A_S))])"
      ],
      "metadata": {
        "id": "A-b5iGXugxqD"
      },
      "execution_count": 73,
      "outputs": []
    },
    {
      "cell_type": "code",
      "source": [
        "# Sum of unique values in native_country column\n",
        "df.native_country.value_counts()"
      ],
      "metadata": {
        "colab": {
          "base_uri": "https://localhost:8080/"
        },
        "id": "t44k0XU_h5gU",
        "outputId": "3f47d761-200d-4892-c10a-e40472e6428d"
      },
      "execution_count": 74,
      "outputs": [
        {
          "output_type": "execute_result",
          "data": {
            "text/plain": [
              "North_America    30587\n",
              "Asia               671\n",
              "Others             583\n",
              "Europe             521\n",
              "South_America      198\n",
              "Name: native_country, dtype: int64"
            ]
          },
          "metadata": {},
          "execution_count": 74
        }
      ]
    },
    {
      "cell_type": "code",
      "source": [
        "# Applying label encoder\n",
        "df.native_country = enc.fit_transform(df.native_country)"
      ],
      "metadata": {
        "id": "JY2o9iV8VZcE"
      },
      "execution_count": 75,
      "outputs": []
    },
    {
      "cell_type": "code",
      "source": [
        "# Sum of unique values in native_country column\n",
        "df.native_country.value_counts()"
      ],
      "metadata": {
        "colab": {
          "base_uri": "https://localhost:8080/"
        },
        "outputId": "772981b2-d9c1-4f2a-b625-1b3f32ea86d1",
        "id": "Ijqf65mxVZcE"
      },
      "execution_count": 76,
      "outputs": [
        {
          "output_type": "execute_result",
          "data": {
            "text/plain": [
              "2    30587\n",
              "0      671\n",
              "3      583\n",
              "1      521\n",
              "4      198\n",
              "Name: native_country, dtype: int64"
            ]
          },
          "metadata": {},
          "execution_count": 76
        }
      ]
    },
    {
      "cell_type": "markdown",
      "source": [
        "Substituted in native_country column:\n",
        "\n",
        "Asia           -> 0\n",
        "\n",
        "Europe       -> 1\n",
        "\n",
        "North_America  -> 2\n",
        "\n",
        "Others         -> 3\n",
        "\n",
        "South_America   -> 4\n"
      ],
      "metadata": {
        "id": "jIdPWanKVZcF"
      }
    },
    {
      "cell_type": "code",
      "source": [
        "# Sum of unique values in income column\n",
        "df.income.value_counts()"
      ],
      "metadata": {
        "colab": {
          "base_uri": "https://localhost:8080/"
        },
        "outputId": "1a9a6e04-0218-4c78-b0ec-b1758de36e1b",
        "id": "dl5kyeUxjZZa"
      },
      "execution_count": 77,
      "outputs": [
        {
          "output_type": "execute_result",
          "data": {
            "text/plain": [
              " <=50K    24719\n",
              " >50K      7841\n",
              "Name: income, dtype: int64"
            ]
          },
          "metadata": {},
          "execution_count": 77
        }
      ]
    },
    {
      "cell_type": "markdown",
      "source": [
        "* Removing the white space."
      ],
      "metadata": {
        "id": "Eki-1wHjjZZr"
      }
    },
    {
      "cell_type": "code",
      "source": [
        "for i in range(len(df.income)):\n",
        "  df.income[i] = re.sub('^\\s', '', df.income[i])"
      ],
      "metadata": {
        "colab": {
          "base_uri": "https://localhost:8080/"
        },
        "outputId": "7aadc9c7-7efe-4b37-df21-fd2532216339",
        "id": "meCRwp7QjZZs"
      },
      "execution_count": 78,
      "outputs": [
        {
          "output_type": "stream",
          "name": "stderr",
          "text": [
            "<ipython-input-78-955a883a5ff4>:2: SettingWithCopyWarning: \n",
            "A value is trying to be set on a copy of a slice from a DataFrame\n",
            "\n",
            "See the caveats in the documentation: https://pandas.pydata.org/pandas-docs/stable/user_guide/indexing.html#returning-a-view-versus-a-copy\n",
            "  df.income[i] = re.sub('^\\s', '', df.income[i])\n"
          ]
        }
      ]
    },
    {
      "cell_type": "code",
      "source": [
        "# Sum of unique values in income column\n",
        "df.income.value_counts()"
      ],
      "metadata": {
        "colab": {
          "base_uri": "https://localhost:8080/"
        },
        "outputId": "d604c4b7-9269-465a-f608-b455099e0615",
        "id": "HRCG9_uijZZs"
      },
      "execution_count": 79,
      "outputs": [
        {
          "output_type": "execute_result",
          "data": {
            "text/plain": [
              "<=50K    24719\n",
              ">50K      7841\n",
              "Name: income, dtype: int64"
            ]
          },
          "metadata": {},
          "execution_count": 79
        }
      ]
    },
    {
      "cell_type": "code",
      "source": [
        "# Applying label encoder\n",
        "df.income = enc.fit_transform(df.income)"
      ],
      "metadata": {
        "id": "Z-oFqMmMjZZt"
      },
      "execution_count": 80,
      "outputs": []
    },
    {
      "cell_type": "code",
      "source": [
        "# Sum of unique values in income column\n",
        "df.income.value_counts()"
      ],
      "metadata": {
        "colab": {
          "base_uri": "https://localhost:8080/"
        },
        "outputId": "6a73cdf7-4093-4c0a-9c0b-2d13a6e12c35",
        "id": "hKXgZOdgjZZt"
      },
      "execution_count": 81,
      "outputs": [
        {
          "output_type": "execute_result",
          "data": {
            "text/plain": [
              "0    24719\n",
              "1     7841\n",
              "Name: income, dtype: int64"
            ]
          },
          "metadata": {},
          "execution_count": 81
        }
      ]
    },
    {
      "cell_type": "markdown",
      "source": [
        "Substituted in income column:\n",
        "\n",
        "\n",
        "\n",
        "1. \"<=50K\"  as   0\n",
        "2. \">50K\"   as 1\n",
        "\n"
      ],
      "metadata": {
        "id": "BsaO99_CjZZu"
      }
    },
    {
      "cell_type": "code",
      "source": [
        "# Top 5 rows of the dataframe\n",
        "df.head()"
      ],
      "metadata": {
        "colab": {
          "base_uri": "https://localhost:8080/",
          "height": 206
        },
        "id": "FcTTzN-MjHj7",
        "outputId": "6bf5f41e-08ce-4477-e84e-f5d3e15b2800"
      },
      "execution_count": 82,
      "outputs": [
        {
          "output_type": "execute_result",
          "data": {
            "text/plain": [
              "   age  workclass  education  education_num  martial_status  occupation  \\\n",
              "0   50          4          2             13               2           3   \n",
              "1   38          2          6              9               0           5   \n",
              "2   53          2          6              7               2           5   \n",
              "3   28          2          2             13               2           9   \n",
              "4   37          2          4             14               2           3   \n",
              "\n",
              "   relationship  race  gender  capital_gain  capital_loss  hours_per_week  \\\n",
              "0             3     4       1             0             0              13   \n",
              "1             0     4       1             0             0              40   \n",
              "2             3     2       1             0             0              40   \n",
              "3             3     2       0             0             0              40   \n",
              "4             3     4       0             0             0              40   \n",
              "\n",
              "   native_country  income  \n",
              "0               2       0  \n",
              "1               2       0  \n",
              "2               2       0  \n",
              "3               2       0  \n",
              "4               2       0  "
            ],
            "text/html": [
              "\n",
              "  <div id=\"df-83d1cf20-4292-4936-a757-d7d879b5f503\">\n",
              "    <div class=\"colab-df-container\">\n",
              "      <div>\n",
              "<style scoped>\n",
              "    .dataframe tbody tr th:only-of-type {\n",
              "        vertical-align: middle;\n",
              "    }\n",
              "\n",
              "    .dataframe tbody tr th {\n",
              "        vertical-align: top;\n",
              "    }\n",
              "\n",
              "    .dataframe thead th {\n",
              "        text-align: right;\n",
              "    }\n",
              "</style>\n",
              "<table border=\"1\" class=\"dataframe\">\n",
              "  <thead>\n",
              "    <tr style=\"text-align: right;\">\n",
              "      <th></th>\n",
              "      <th>age</th>\n",
              "      <th>workclass</th>\n",
              "      <th>education</th>\n",
              "      <th>education_num</th>\n",
              "      <th>martial_status</th>\n",
              "      <th>occupation</th>\n",
              "      <th>relationship</th>\n",
              "      <th>race</th>\n",
              "      <th>gender</th>\n",
              "      <th>capital_gain</th>\n",
              "      <th>capital_loss</th>\n",
              "      <th>hours_per_week</th>\n",
              "      <th>native_country</th>\n",
              "      <th>income</th>\n",
              "    </tr>\n",
              "  </thead>\n",
              "  <tbody>\n",
              "    <tr>\n",
              "      <th>0</th>\n",
              "      <td>50</td>\n",
              "      <td>4</td>\n",
              "      <td>2</td>\n",
              "      <td>13</td>\n",
              "      <td>2</td>\n",
              "      <td>3</td>\n",
              "      <td>3</td>\n",
              "      <td>4</td>\n",
              "      <td>1</td>\n",
              "      <td>0</td>\n",
              "      <td>0</td>\n",
              "      <td>13</td>\n",
              "      <td>2</td>\n",
              "      <td>0</td>\n",
              "    </tr>\n",
              "    <tr>\n",
              "      <th>1</th>\n",
              "      <td>38</td>\n",
              "      <td>2</td>\n",
              "      <td>6</td>\n",
              "      <td>9</td>\n",
              "      <td>0</td>\n",
              "      <td>5</td>\n",
              "      <td>0</td>\n",
              "      <td>4</td>\n",
              "      <td>1</td>\n",
              "      <td>0</td>\n",
              "      <td>0</td>\n",
              "      <td>40</td>\n",
              "      <td>2</td>\n",
              "      <td>0</td>\n",
              "    </tr>\n",
              "    <tr>\n",
              "      <th>2</th>\n",
              "      <td>53</td>\n",
              "      <td>2</td>\n",
              "      <td>6</td>\n",
              "      <td>7</td>\n",
              "      <td>2</td>\n",
              "      <td>5</td>\n",
              "      <td>3</td>\n",
              "      <td>2</td>\n",
              "      <td>1</td>\n",
              "      <td>0</td>\n",
              "      <td>0</td>\n",
              "      <td>40</td>\n",
              "      <td>2</td>\n",
              "      <td>0</td>\n",
              "    </tr>\n",
              "    <tr>\n",
              "      <th>3</th>\n",
              "      <td>28</td>\n",
              "      <td>2</td>\n",
              "      <td>2</td>\n",
              "      <td>13</td>\n",
              "      <td>2</td>\n",
              "      <td>9</td>\n",
              "      <td>3</td>\n",
              "      <td>2</td>\n",
              "      <td>0</td>\n",
              "      <td>0</td>\n",
              "      <td>0</td>\n",
              "      <td>40</td>\n",
              "      <td>2</td>\n",
              "      <td>0</td>\n",
              "    </tr>\n",
              "    <tr>\n",
              "      <th>4</th>\n",
              "      <td>37</td>\n",
              "      <td>2</td>\n",
              "      <td>4</td>\n",
              "      <td>14</td>\n",
              "      <td>2</td>\n",
              "      <td>3</td>\n",
              "      <td>3</td>\n",
              "      <td>4</td>\n",
              "      <td>0</td>\n",
              "      <td>0</td>\n",
              "      <td>0</td>\n",
              "      <td>40</td>\n",
              "      <td>2</td>\n",
              "      <td>0</td>\n",
              "    </tr>\n",
              "  </tbody>\n",
              "</table>\n",
              "</div>\n",
              "      <button class=\"colab-df-convert\" onclick=\"convertToInteractive('df-83d1cf20-4292-4936-a757-d7d879b5f503')\"\n",
              "              title=\"Convert this dataframe to an interactive table.\"\n",
              "              style=\"display:none;\">\n",
              "        \n",
              "  <svg xmlns=\"http://www.w3.org/2000/svg\" height=\"24px\"viewBox=\"0 0 24 24\"\n",
              "       width=\"24px\">\n",
              "    <path d=\"M0 0h24v24H0V0z\" fill=\"none\"/>\n",
              "    <path d=\"M18.56 5.44l.94 2.06.94-2.06 2.06-.94-2.06-.94-.94-2.06-.94 2.06-2.06.94zm-11 1L8.5 8.5l.94-2.06 2.06-.94-2.06-.94L8.5 2.5l-.94 2.06-2.06.94zm10 10l.94 2.06.94-2.06 2.06-.94-2.06-.94-.94-2.06-.94 2.06-2.06.94z\"/><path d=\"M17.41 7.96l-1.37-1.37c-.4-.4-.92-.59-1.43-.59-.52 0-1.04.2-1.43.59L10.3 9.45l-7.72 7.72c-.78.78-.78 2.05 0 2.83L4 21.41c.39.39.9.59 1.41.59.51 0 1.02-.2 1.41-.59l7.78-7.78 2.81-2.81c.8-.78.8-2.07 0-2.86zM5.41 20L4 18.59l7.72-7.72 1.47 1.35L5.41 20z\"/>\n",
              "  </svg>\n",
              "      </button>\n",
              "      \n",
              "  <style>\n",
              "    .colab-df-container {\n",
              "      display:flex;\n",
              "      flex-wrap:wrap;\n",
              "      gap: 12px;\n",
              "    }\n",
              "\n",
              "    .colab-df-convert {\n",
              "      background-color: #E8F0FE;\n",
              "      border: none;\n",
              "      border-radius: 50%;\n",
              "      cursor: pointer;\n",
              "      display: none;\n",
              "      fill: #1967D2;\n",
              "      height: 32px;\n",
              "      padding: 0 0 0 0;\n",
              "      width: 32px;\n",
              "    }\n",
              "\n",
              "    .colab-df-convert:hover {\n",
              "      background-color: #E2EBFA;\n",
              "      box-shadow: 0px 1px 2px rgba(60, 64, 67, 0.3), 0px 1px 3px 1px rgba(60, 64, 67, 0.15);\n",
              "      fill: #174EA6;\n",
              "    }\n",
              "\n",
              "    [theme=dark] .colab-df-convert {\n",
              "      background-color: #3B4455;\n",
              "      fill: #D2E3FC;\n",
              "    }\n",
              "\n",
              "    [theme=dark] .colab-df-convert:hover {\n",
              "      background-color: #434B5C;\n",
              "      box-shadow: 0px 1px 3px 1px rgba(0, 0, 0, 0.15);\n",
              "      filter: drop-shadow(0px 1px 2px rgba(0, 0, 0, 0.3));\n",
              "      fill: #FFFFFF;\n",
              "    }\n",
              "  </style>\n",
              "\n",
              "      <script>\n",
              "        const buttonEl =\n",
              "          document.querySelector('#df-83d1cf20-4292-4936-a757-d7d879b5f503 button.colab-df-convert');\n",
              "        buttonEl.style.display =\n",
              "          google.colab.kernel.accessAllowed ? 'block' : 'none';\n",
              "\n",
              "        async function convertToInteractive(key) {\n",
              "          const element = document.querySelector('#df-83d1cf20-4292-4936-a757-d7d879b5f503');\n",
              "          const dataTable =\n",
              "            await google.colab.kernel.invokeFunction('convertToInteractive',\n",
              "                                                     [key], {});\n",
              "          if (!dataTable) return;\n",
              "\n",
              "          const docLinkHtml = 'Like what you see? Visit the ' +\n",
              "            '<a target=\"_blank\" href=https://colab.research.google.com/notebooks/data_table.ipynb>data table notebook</a>'\n",
              "            + ' to learn more about interactive tables.';\n",
              "          element.innerHTML = '';\n",
              "          dataTable['output_type'] = 'display_data';\n",
              "          await google.colab.output.renderOutput(dataTable, element);\n",
              "          const docLink = document.createElement('div');\n",
              "          docLink.innerHTML = docLinkHtml;\n",
              "          element.appendChild(docLink);\n",
              "        }\n",
              "      </script>\n",
              "    </div>\n",
              "  </div>\n",
              "  "
            ]
          },
          "metadata": {},
          "execution_count": 82
        }
      ]
    },
    {
      "cell_type": "code",
      "source": [
        "# General information of the dataframe\n",
        "df.info()"
      ],
      "metadata": {
        "colab": {
          "base_uri": "https://localhost:8080/"
        },
        "id": "BjbJ71OMjHnp",
        "outputId": "62617c14-5873-4459-ce0e-47a4558b6fbb"
      },
      "execution_count": 83,
      "outputs": [
        {
          "output_type": "stream",
          "name": "stdout",
          "text": [
            "<class 'pandas.core.frame.DataFrame'>\n",
            "RangeIndex: 32560 entries, 0 to 32559\n",
            "Data columns (total 14 columns):\n",
            " #   Column          Non-Null Count  Dtype\n",
            "---  ------          --------------  -----\n",
            " 0   age             32560 non-null  int64\n",
            " 1   workclass       32560 non-null  int64\n",
            " 2   education       32560 non-null  int64\n",
            " 3   education_num   32560 non-null  int64\n",
            " 4   martial_status  32560 non-null  int64\n",
            " 5   occupation      32560 non-null  int64\n",
            " 6   relationship    32560 non-null  int64\n",
            " 7   race            32560 non-null  int64\n",
            " 8   gender          32560 non-null  int64\n",
            " 9   capital_gain    32560 non-null  int64\n",
            " 10  capital_loss    32560 non-null  int64\n",
            " 11  hours_per_week  32560 non-null  int64\n",
            " 12  native_country  32560 non-null  int64\n",
            " 13  income          32560 non-null  int64\n",
            "dtypes: int64(14)\n",
            "memory usage: 3.5 MB\n"
          ]
        }
      ]
    },
    {
      "cell_type": "markdown",
      "source": [
        "# Obseravtions:\n",
        "\n",
        "1. Data Strength: 32460\n",
        "2. No. of random variables: 15\n",
        "3. None of the columns contained Null values\n",
        "4. Columns - 'age', 'education_num', 'id', 'capital_gain','capital_loss' and 'hours_per_week' were having numerical value.\n",
        "5. Columns - 'workclass', 'education','martial_status','occupation', 'relationship', 'race', 'gender','native_country' and 'income' were having categorical value."
      ],
      "metadata": {
        "id": "bywEJXg_nxMB"
      }
    },
    {
      "cell_type": "code",
      "source": [
        "# Finding the correlation of columns with each other\n",
        "df.corr()"
      ],
      "metadata": {
        "colab": {
          "base_uri": "https://localhost:8080/",
          "height": 488
        },
        "id": "wMU0oJkfjHqh",
        "outputId": "777fe25e-0db7-427e-bf0f-9959ece5dfc8"
      },
      "execution_count": 84,
      "outputs": [
        {
          "output_type": "execute_result",
          "data": {
            "text/plain": [
              "                     age  workclass  education  education_num  martial_status  \\\n",
              "age             1.000000   0.043447  -0.057057       0.036527       -0.314968   \n",
              "workclass       0.043447   1.000000   0.056230      -0.091685       -0.006301   \n",
              "education      -0.057057   0.056230   1.000000      -0.597910        0.027926   \n",
              "education_num   0.036527  -0.091685  -0.597910       1.000000       -0.030827   \n",
              "martial_status -0.314968  -0.006301   0.027926      -0.030827        1.000000   \n",
              "occupation     -0.003110  -0.006267  -0.069854       0.081301        0.031352   \n",
              "relationship    0.150001   0.026557   0.017469      -0.015599       -0.248251   \n",
              "race            0.028718   0.071763  -0.021248       0.031825       -0.031844   \n",
              "gender          0.088832   0.105533  -0.021666       0.012256       -0.046401   \n",
              "capital_gain    0.077674   0.047029  -0.054903       0.122627       -0.035757   \n",
              "capital_loss    0.057775   0.007292  -0.046788       0.079932       -0.027309   \n",
              "hours_per_week  0.068756   0.076716  -0.107002       0.148127       -0.175639   \n",
              "native_country -0.005543   0.013399   0.035310      -0.041704        0.002028   \n",
              "income          0.234039  -0.001372  -0.214188       0.335182       -0.154967   \n",
              "\n",
              "                occupation  relationship      race    gender  capital_gain  \\\n",
              "age              -0.003110      0.150001  0.028718  0.088832      0.077674   \n",
              "workclass        -0.006267      0.026557  0.071763  0.105533      0.047029   \n",
              "education        -0.069854      0.017469 -0.021248 -0.021666     -0.054903   \n",
              "education_num     0.081301     -0.015599  0.031825  0.012256      0.122627   \n",
              "martial_status    0.031352     -0.248251 -0.031844 -0.046401     -0.035757   \n",
              "occupation        1.000000     -0.011770 -0.002447  0.055873      0.020133   \n",
              "relationship     -0.011770      1.000000 -0.011699  0.125091      0.037374   \n",
              "race             -0.002447     -0.011699  1.000000  0.087197      0.011143   \n",
              "gender            0.055873      0.125091  0.087197  1.000000      0.048477   \n",
              "capital_gain      0.020133      0.037374  0.011143  0.048477      1.000000   \n",
              "capital_loss      0.011726      0.024888  0.018902  0.045572     -0.031614   \n",
              "hours_per_week    0.006904      0.062105  0.041910  0.229312      0.078409   \n",
              "native_country    0.011103     -0.002949  0.220989 -0.004961     -0.000423   \n",
              "income            0.044356      0.227110  0.071853  0.215995      0.223333   \n",
              "\n",
              "                capital_loss  hours_per_week  native_country    income  \n",
              "age                 0.057775        0.068756       -0.005543  0.234039  \n",
              "workclass           0.007292        0.076716        0.013399 -0.001372  \n",
              "education          -0.046788       -0.107002        0.035310 -0.214188  \n",
              "education_num       0.079932        0.148127       -0.041704  0.335182  \n",
              "martial_status     -0.027309       -0.175639        0.002028 -0.154967  \n",
              "occupation          0.011726        0.006904        0.011103  0.044356  \n",
              "relationship        0.024888        0.062105       -0.002949  0.227110  \n",
              "race                0.018902        0.041910        0.220989  0.071853  \n",
              "gender              0.045572        0.229312       -0.004961  0.215995  \n",
              "capital_gain       -0.031614        0.078409       -0.000423  0.223333  \n",
              "capital_loss        1.000000        0.054256       -0.001045  0.150523  \n",
              "hours_per_week      0.054256        1.000000        0.000417  0.229690  \n",
              "native_country     -0.001045        0.000417        1.000000 -0.030170  \n",
              "income              0.150523        0.229690       -0.030170  1.000000  "
            ],
            "text/html": [
              "\n",
              "  <div id=\"df-228a984e-f06c-4896-bfe7-e53390b8a193\">\n",
              "    <div class=\"colab-df-container\">\n",
              "      <div>\n",
              "<style scoped>\n",
              "    .dataframe tbody tr th:only-of-type {\n",
              "        vertical-align: middle;\n",
              "    }\n",
              "\n",
              "    .dataframe tbody tr th {\n",
              "        vertical-align: top;\n",
              "    }\n",
              "\n",
              "    .dataframe thead th {\n",
              "        text-align: right;\n",
              "    }\n",
              "</style>\n",
              "<table border=\"1\" class=\"dataframe\">\n",
              "  <thead>\n",
              "    <tr style=\"text-align: right;\">\n",
              "      <th></th>\n",
              "      <th>age</th>\n",
              "      <th>workclass</th>\n",
              "      <th>education</th>\n",
              "      <th>education_num</th>\n",
              "      <th>martial_status</th>\n",
              "      <th>occupation</th>\n",
              "      <th>relationship</th>\n",
              "      <th>race</th>\n",
              "      <th>gender</th>\n",
              "      <th>capital_gain</th>\n",
              "      <th>capital_loss</th>\n",
              "      <th>hours_per_week</th>\n",
              "      <th>native_country</th>\n",
              "      <th>income</th>\n",
              "    </tr>\n",
              "  </thead>\n",
              "  <tbody>\n",
              "    <tr>\n",
              "      <th>age</th>\n",
              "      <td>1.000000</td>\n",
              "      <td>0.043447</td>\n",
              "      <td>-0.057057</td>\n",
              "      <td>0.036527</td>\n",
              "      <td>-0.314968</td>\n",
              "      <td>-0.003110</td>\n",
              "      <td>0.150001</td>\n",
              "      <td>0.028718</td>\n",
              "      <td>0.088832</td>\n",
              "      <td>0.077674</td>\n",
              "      <td>0.057775</td>\n",
              "      <td>0.068756</td>\n",
              "      <td>-0.005543</td>\n",
              "      <td>0.234039</td>\n",
              "    </tr>\n",
              "    <tr>\n",
              "      <th>workclass</th>\n",
              "      <td>0.043447</td>\n",
              "      <td>1.000000</td>\n",
              "      <td>0.056230</td>\n",
              "      <td>-0.091685</td>\n",
              "      <td>-0.006301</td>\n",
              "      <td>-0.006267</td>\n",
              "      <td>0.026557</td>\n",
              "      <td>0.071763</td>\n",
              "      <td>0.105533</td>\n",
              "      <td>0.047029</td>\n",
              "      <td>0.007292</td>\n",
              "      <td>0.076716</td>\n",
              "      <td>0.013399</td>\n",
              "      <td>-0.001372</td>\n",
              "    </tr>\n",
              "    <tr>\n",
              "      <th>education</th>\n",
              "      <td>-0.057057</td>\n",
              "      <td>0.056230</td>\n",
              "      <td>1.000000</td>\n",
              "      <td>-0.597910</td>\n",
              "      <td>0.027926</td>\n",
              "      <td>-0.069854</td>\n",
              "      <td>0.017469</td>\n",
              "      <td>-0.021248</td>\n",
              "      <td>-0.021666</td>\n",
              "      <td>-0.054903</td>\n",
              "      <td>-0.046788</td>\n",
              "      <td>-0.107002</td>\n",
              "      <td>0.035310</td>\n",
              "      <td>-0.214188</td>\n",
              "    </tr>\n",
              "    <tr>\n",
              "      <th>education_num</th>\n",
              "      <td>0.036527</td>\n",
              "      <td>-0.091685</td>\n",
              "      <td>-0.597910</td>\n",
              "      <td>1.000000</td>\n",
              "      <td>-0.030827</td>\n",
              "      <td>0.081301</td>\n",
              "      <td>-0.015599</td>\n",
              "      <td>0.031825</td>\n",
              "      <td>0.012256</td>\n",
              "      <td>0.122627</td>\n",
              "      <td>0.079932</td>\n",
              "      <td>0.148127</td>\n",
              "      <td>-0.041704</td>\n",
              "      <td>0.335182</td>\n",
              "    </tr>\n",
              "    <tr>\n",
              "      <th>martial_status</th>\n",
              "      <td>-0.314968</td>\n",
              "      <td>-0.006301</td>\n",
              "      <td>0.027926</td>\n",
              "      <td>-0.030827</td>\n",
              "      <td>1.000000</td>\n",
              "      <td>0.031352</td>\n",
              "      <td>-0.248251</td>\n",
              "      <td>-0.031844</td>\n",
              "      <td>-0.046401</td>\n",
              "      <td>-0.035757</td>\n",
              "      <td>-0.027309</td>\n",
              "      <td>-0.175639</td>\n",
              "      <td>0.002028</td>\n",
              "      <td>-0.154967</td>\n",
              "    </tr>\n",
              "    <tr>\n",
              "      <th>occupation</th>\n",
              "      <td>-0.003110</td>\n",
              "      <td>-0.006267</td>\n",
              "      <td>-0.069854</td>\n",
              "      <td>0.081301</td>\n",
              "      <td>0.031352</td>\n",
              "      <td>1.000000</td>\n",
              "      <td>-0.011770</td>\n",
              "      <td>-0.002447</td>\n",
              "      <td>0.055873</td>\n",
              "      <td>0.020133</td>\n",
              "      <td>0.011726</td>\n",
              "      <td>0.006904</td>\n",
              "      <td>0.011103</td>\n",
              "      <td>0.044356</td>\n",
              "    </tr>\n",
              "    <tr>\n",
              "      <th>relationship</th>\n",
              "      <td>0.150001</td>\n",
              "      <td>0.026557</td>\n",
              "      <td>0.017469</td>\n",
              "      <td>-0.015599</td>\n",
              "      <td>-0.248251</td>\n",
              "      <td>-0.011770</td>\n",
              "      <td>1.000000</td>\n",
              "      <td>-0.011699</td>\n",
              "      <td>0.125091</td>\n",
              "      <td>0.037374</td>\n",
              "      <td>0.024888</td>\n",
              "      <td>0.062105</td>\n",
              "      <td>-0.002949</td>\n",
              "      <td>0.227110</td>\n",
              "    </tr>\n",
              "    <tr>\n",
              "      <th>race</th>\n",
              "      <td>0.028718</td>\n",
              "      <td>0.071763</td>\n",
              "      <td>-0.021248</td>\n",
              "      <td>0.031825</td>\n",
              "      <td>-0.031844</td>\n",
              "      <td>-0.002447</td>\n",
              "      <td>-0.011699</td>\n",
              "      <td>1.000000</td>\n",
              "      <td>0.087197</td>\n",
              "      <td>0.011143</td>\n",
              "      <td>0.018902</td>\n",
              "      <td>0.041910</td>\n",
              "      <td>0.220989</td>\n",
              "      <td>0.071853</td>\n",
              "    </tr>\n",
              "    <tr>\n",
              "      <th>gender</th>\n",
              "      <td>0.088832</td>\n",
              "      <td>0.105533</td>\n",
              "      <td>-0.021666</td>\n",
              "      <td>0.012256</td>\n",
              "      <td>-0.046401</td>\n",
              "      <td>0.055873</td>\n",
              "      <td>0.125091</td>\n",
              "      <td>0.087197</td>\n",
              "      <td>1.000000</td>\n",
              "      <td>0.048477</td>\n",
              "      <td>0.045572</td>\n",
              "      <td>0.229312</td>\n",
              "      <td>-0.004961</td>\n",
              "      <td>0.215995</td>\n",
              "    </tr>\n",
              "    <tr>\n",
              "      <th>capital_gain</th>\n",
              "      <td>0.077674</td>\n",
              "      <td>0.047029</td>\n",
              "      <td>-0.054903</td>\n",
              "      <td>0.122627</td>\n",
              "      <td>-0.035757</td>\n",
              "      <td>0.020133</td>\n",
              "      <td>0.037374</td>\n",
              "      <td>0.011143</td>\n",
              "      <td>0.048477</td>\n",
              "      <td>1.000000</td>\n",
              "      <td>-0.031614</td>\n",
              "      <td>0.078409</td>\n",
              "      <td>-0.000423</td>\n",
              "      <td>0.223333</td>\n",
              "    </tr>\n",
              "    <tr>\n",
              "      <th>capital_loss</th>\n",
              "      <td>0.057775</td>\n",
              "      <td>0.007292</td>\n",
              "      <td>-0.046788</td>\n",
              "      <td>0.079932</td>\n",
              "      <td>-0.027309</td>\n",
              "      <td>0.011726</td>\n",
              "      <td>0.024888</td>\n",
              "      <td>0.018902</td>\n",
              "      <td>0.045572</td>\n",
              "      <td>-0.031614</td>\n",
              "      <td>1.000000</td>\n",
              "      <td>0.054256</td>\n",
              "      <td>-0.001045</td>\n",
              "      <td>0.150523</td>\n",
              "    </tr>\n",
              "    <tr>\n",
              "      <th>hours_per_week</th>\n",
              "      <td>0.068756</td>\n",
              "      <td>0.076716</td>\n",
              "      <td>-0.107002</td>\n",
              "      <td>0.148127</td>\n",
              "      <td>-0.175639</td>\n",
              "      <td>0.006904</td>\n",
              "      <td>0.062105</td>\n",
              "      <td>0.041910</td>\n",
              "      <td>0.229312</td>\n",
              "      <td>0.078409</td>\n",
              "      <td>0.054256</td>\n",
              "      <td>1.000000</td>\n",
              "      <td>0.000417</td>\n",
              "      <td>0.229690</td>\n",
              "    </tr>\n",
              "    <tr>\n",
              "      <th>native_country</th>\n",
              "      <td>-0.005543</td>\n",
              "      <td>0.013399</td>\n",
              "      <td>0.035310</td>\n",
              "      <td>-0.041704</td>\n",
              "      <td>0.002028</td>\n",
              "      <td>0.011103</td>\n",
              "      <td>-0.002949</td>\n",
              "      <td>0.220989</td>\n",
              "      <td>-0.004961</td>\n",
              "      <td>-0.000423</td>\n",
              "      <td>-0.001045</td>\n",
              "      <td>0.000417</td>\n",
              "      <td>1.000000</td>\n",
              "      <td>-0.030170</td>\n",
              "    </tr>\n",
              "    <tr>\n",
              "      <th>income</th>\n",
              "      <td>0.234039</td>\n",
              "      <td>-0.001372</td>\n",
              "      <td>-0.214188</td>\n",
              "      <td>0.335182</td>\n",
              "      <td>-0.154967</td>\n",
              "      <td>0.044356</td>\n",
              "      <td>0.227110</td>\n",
              "      <td>0.071853</td>\n",
              "      <td>0.215995</td>\n",
              "      <td>0.223333</td>\n",
              "      <td>0.150523</td>\n",
              "      <td>0.229690</td>\n",
              "      <td>-0.030170</td>\n",
              "      <td>1.000000</td>\n",
              "    </tr>\n",
              "  </tbody>\n",
              "</table>\n",
              "</div>\n",
              "      <button class=\"colab-df-convert\" onclick=\"convertToInteractive('df-228a984e-f06c-4896-bfe7-e53390b8a193')\"\n",
              "              title=\"Convert this dataframe to an interactive table.\"\n",
              "              style=\"display:none;\">\n",
              "        \n",
              "  <svg xmlns=\"http://www.w3.org/2000/svg\" height=\"24px\"viewBox=\"0 0 24 24\"\n",
              "       width=\"24px\">\n",
              "    <path d=\"M0 0h24v24H0V0z\" fill=\"none\"/>\n",
              "    <path d=\"M18.56 5.44l.94 2.06.94-2.06 2.06-.94-2.06-.94-.94-2.06-.94 2.06-2.06.94zm-11 1L8.5 8.5l.94-2.06 2.06-.94-2.06-.94L8.5 2.5l-.94 2.06-2.06.94zm10 10l.94 2.06.94-2.06 2.06-.94-2.06-.94-.94-2.06-.94 2.06-2.06.94z\"/><path d=\"M17.41 7.96l-1.37-1.37c-.4-.4-.92-.59-1.43-.59-.52 0-1.04.2-1.43.59L10.3 9.45l-7.72 7.72c-.78.78-.78 2.05 0 2.83L4 21.41c.39.39.9.59 1.41.59.51 0 1.02-.2 1.41-.59l7.78-7.78 2.81-2.81c.8-.78.8-2.07 0-2.86zM5.41 20L4 18.59l7.72-7.72 1.47 1.35L5.41 20z\"/>\n",
              "  </svg>\n",
              "      </button>\n",
              "      \n",
              "  <style>\n",
              "    .colab-df-container {\n",
              "      display:flex;\n",
              "      flex-wrap:wrap;\n",
              "      gap: 12px;\n",
              "    }\n",
              "\n",
              "    .colab-df-convert {\n",
              "      background-color: #E8F0FE;\n",
              "      border: none;\n",
              "      border-radius: 50%;\n",
              "      cursor: pointer;\n",
              "      display: none;\n",
              "      fill: #1967D2;\n",
              "      height: 32px;\n",
              "      padding: 0 0 0 0;\n",
              "      width: 32px;\n",
              "    }\n",
              "\n",
              "    .colab-df-convert:hover {\n",
              "      background-color: #E2EBFA;\n",
              "      box-shadow: 0px 1px 2px rgba(60, 64, 67, 0.3), 0px 1px 3px 1px rgba(60, 64, 67, 0.15);\n",
              "      fill: #174EA6;\n",
              "    }\n",
              "\n",
              "    [theme=dark] .colab-df-convert {\n",
              "      background-color: #3B4455;\n",
              "      fill: #D2E3FC;\n",
              "    }\n",
              "\n",
              "    [theme=dark] .colab-df-convert:hover {\n",
              "      background-color: #434B5C;\n",
              "      box-shadow: 0px 1px 3px 1px rgba(0, 0, 0, 0.15);\n",
              "      filter: drop-shadow(0px 1px 2px rgba(0, 0, 0, 0.3));\n",
              "      fill: #FFFFFF;\n",
              "    }\n",
              "  </style>\n",
              "\n",
              "      <script>\n",
              "        const buttonEl =\n",
              "          document.querySelector('#df-228a984e-f06c-4896-bfe7-e53390b8a193 button.colab-df-convert');\n",
              "        buttonEl.style.display =\n",
              "          google.colab.kernel.accessAllowed ? 'block' : 'none';\n",
              "\n",
              "        async function convertToInteractive(key) {\n",
              "          const element = document.querySelector('#df-228a984e-f06c-4896-bfe7-e53390b8a193');\n",
              "          const dataTable =\n",
              "            await google.colab.kernel.invokeFunction('convertToInteractive',\n",
              "                                                     [key], {});\n",
              "          if (!dataTable) return;\n",
              "\n",
              "          const docLinkHtml = 'Like what you see? Visit the ' +\n",
              "            '<a target=\"_blank\" href=https://colab.research.google.com/notebooks/data_table.ipynb>data table notebook</a>'\n",
              "            + ' to learn more about interactive tables.';\n",
              "          element.innerHTML = '';\n",
              "          dataTable['output_type'] = 'display_data';\n",
              "          await google.colab.output.renderOutput(dataTable, element);\n",
              "          const docLink = document.createElement('div');\n",
              "          docLink.innerHTML = docLinkHtml;\n",
              "          element.appendChild(docLink);\n",
              "        }\n",
              "      </script>\n",
              "    </div>\n",
              "  </div>\n",
              "  "
            ]
          },
          "metadata": {},
          "execution_count": 84
        }
      ]
    },
    {
      "cell_type": "code",
      "source": [
        "# Plotting the correlation using the heatmap\n",
        "plt.figure(figsize = (10, 10))\n",
        "sns.heatmap(df.corr(), annot = True, cmap = 'Greens')"
      ],
      "metadata": {
        "colab": {
          "base_uri": "https://localhost:8080/",
          "height": 952
        },
        "id": "5_wgxCJ2n4uJ",
        "outputId": "8c0862b8-27ef-4d54-c613-29a79ca411bd"
      },
      "execution_count": 85,
      "outputs": [
        {
          "output_type": "execute_result",
          "data": {
            "text/plain": [
              "<Axes: >"
            ]
          },
          "metadata": {},
          "execution_count": 85
        },
        {
          "output_type": "display_data",
          "data": {
            "text/plain": [
              "<Figure size 1000x1000 with 2 Axes>"
            ],
            "image/png": "[encoded data removed]"
          },
          "metadata": {}
        }
      ]
    },
    {
      "cell_type": "markdown",
      "source": [
        "# Feature Selection\n",
        "* As we are having a lot of features, we are using ExtraTreesRegressor for Feature Selection to take only most important features for making accurate prediction."
      ],
      "metadata": {
        "id": "Mp6dRqAQkYJ6"
      }
    },
    {
      "cell_type": "code",
      "source": [
        "X = df.drop(\"income\", axis = 1) #features\n",
        "y = df.income #target"
      ],
      "metadata": {
        "id": "l-dGlCDqkXqG"
      },
      "execution_count": 86,
      "outputs": []
    },
    {
      "cell_type": "code",
      "source": [
        "model = ExtraTreesClassifier()"
      ],
      "metadata": {
        "id": "iwawBujzkXti"
      },
      "execution_count": 87,
      "outputs": []
    },
    {
      "cell_type": "code",
      "source": [
        "model.fit(X, y)"
      ],
      "metadata": {
        "colab": {
          "base_uri": "https://localhost:8080/",
          "height": 74
        },
        "id": "d0yVYaCCkXwM",
        "outputId": "6ead60c1-2efa-495c-b481-426519c853f1"
      },
      "execution_count": 88,
      "outputs": [
        {
          "output_type": "execute_result",
          "data": {
            "text/plain": [
              "ExtraTreesClassifier()"
            ],
            "text/html": [
              "<style>#sk-container-id-1 {color: black;background-color: white;}#sk-container-id-1 pre{padding: 0;}#sk-container-id-1 div.sk-toggleable {background-color: white;}#sk-container-id-1 label.sk-toggleable__label {cursor: pointer;display: block;width: 100%;margin-bottom: 0;padding: 0.3em;box-sizing: border-box;text-align: center;}#sk-container-id-1 label.sk-toggleable__label-arrow:before {content: \"▸\";float: left;margin-right: 0.25em;color: #696969;}#sk-container-id-1 label.sk-toggleable__label-arrow:hover:before {color: black;}#sk-container-id-1 div.sk-estimator:hover label.sk-toggleable__label-arrow:before {color: black;}#sk-container-id-1 div.sk-toggleable__content {max-height: 0;max-width: 0;overflow: hidden;text-align: left;background-color: #f0f8ff;}#sk-container-id-1 div.sk-toggleable__content pre {margin: 0.2em;color: black;border-radius: 0.25em;background-color: #f0f8ff;}#sk-container-id-1 input.sk-toggleable__control:checked~div.sk-toggleable__content {max-height: 200px;max-width: 100%;overflow: auto;}#sk-container-id-1 input.sk-toggleable__control:checked~label.sk-toggleable__label-arrow:before {content: \"▾\";}#sk-container-id-1 div.sk-estimator input.sk-toggleable__control:checked~label.sk-toggleable__label {background-color: #d4ebff;}#sk-container-id-1 div.sk-label input.sk-toggleable__control:checked~label.sk-toggleable__label {background-color: #d4ebff;}#sk-container-id-1 input.sk-hidden--visually {border: 0;clip: rect(1px 1px 1px 1px);clip: rect(1px, 1px, 1px, 1px);height: 1px;margin: -1px;overflow: hidden;padding: 0;position: absolute;width: 1px;}#sk-container-id-1 div.sk-estimator {font-family: monospace;background-color: #f0f8ff;border: 1px dotted black;border-radius: 0.25em;box-sizing: border-box;margin-bottom: 0.5em;}#sk-container-id-1 div.sk-estimator:hover {background-color: #d4ebff;}#sk-container-id-1 div.sk-parallel-item::after {content: \"\";width: 100%;border-bottom: 1px solid gray;flex-grow: 1;}#sk-container-id-1 div.sk-label:hover label.sk-toggleable__label {background-color: #d4ebff;}#sk-container-id-1 div.sk-serial::before {content: \"\";position: absolute;border-left: 1px solid gray;box-sizing: border-box;top: 0;bottom: 0;left: 50%;z-index: 0;}#sk-container-id-1 div.sk-serial {display: flex;flex-direction: column;align-items: center;background-color: white;padding-right: 0.2em;padding-left: 0.2em;position: relative;}#sk-container-id-1 div.sk-item {position: relative;z-index: 1;}#sk-container-id-1 div.sk-parallel {display: flex;align-items: stretch;justify-content: center;background-color: white;position: relative;}#sk-container-id-1 div.sk-item::before, #sk-container-id-1 div.sk-parallel-item::before {content: \"\";position: absolute;border-left: 1px solid gray;box-sizing: border-box;top: 0;bottom: 0;left: 50%;z-index: -1;}#sk-container-id-1 div.sk-parallel-item {display: flex;flex-direction: column;z-index: 1;position: relative;background-color: white;}#sk-container-id-1 div.sk-parallel-item:first-child::after {align-self: flex-end;width: 50%;}#sk-container-id-1 div.sk-parallel-item:last-child::after {align-self: flex-start;width: 50%;}#sk-container-id-1 div.sk-parallel-item:only-child::after {width: 0;}#sk-container-id-1 div.sk-dashed-wrapped {border: 1px dashed gray;margin: 0 0.4em 0.5em 0.4em;box-sizing: border-box;padding-bottom: 0.4em;background-color: white;}#sk-container-id-1 div.sk-label label {font-family: monospace;font-weight: bold;display: inline-block;line-height: 1.2em;}#sk-container-id-1 div.sk-label-container {text-align: center;}#sk-container-id-1 div.sk-container {/* jupyter's `normalize.less` sets `[hidden] { display: none; }` but bootstrap.min.css set `[hidden] { display: none !important; }` so we also need the `!important` here to be able to override the default hidden behavior on the sphinx rendered scikit-learn.org. See: https://github.com/scikit-learn/scikit-learn/issues/21755 */display: inline-block !important;position: relative;}#sk-container-id-1 div.sk-text-repr-fallback {display: none;}</style><div id=\"sk-container-id-1\" class=\"sk-top-container\"><div class=\"sk-text-repr-fallback\"><pre>ExtraTreesClassifier()</pre><b>In a Jupyter environment, please rerun this cell to show the HTML representation or trust the notebook. <br />On GitHub, the HTML representation is unable to render, please try loading this page with nbviewer.org.</b></div><div class=\"sk-container\" hidden><div class=\"sk-item\"><div class=\"sk-estimator sk-toggleable\"><input class=\"sk-toggleable__control sk-hidden--visually\" id=\"sk-estimator-id-1\" type=\"checkbox\" checked><label for=\"sk-estimator-id-1\" class=\"sk-toggleable__label sk-toggleable__label-arrow\">ExtraTreesClassifier</label><div class=\"sk-toggleable__content\"><pre>ExtraTreesClassifier()</pre></div></div></div></div></div>"
            ]
          },
          "metadata": {},
          "execution_count": 88
        }
      ]
    },
    {
      "cell_type": "code",
      "source": [
        "# Values of important features\n",
        "model.feature_importances_"
      ],
      "metadata": {
        "colab": {
          "base_uri": "https://localhost:8080/"
        },
        "id": "YzUZ5BI6kXy8",
        "outputId": "1fccc8fd-665d-4784-e683-91d19f0bba13"
      },
      "execution_count": 89,
      "outputs": [
        {
          "output_type": "execute_result",
          "data": {
            "text/plain": [
              "array([0.23131407, 0.03621703, 0.06493476, 0.08004603, 0.07345787,\n",
              "       0.09024817, 0.0943183 , 0.01734295, 0.03518317, 0.09938564,\n",
              "       0.03264469, 0.12872859, 0.01617874])"
            ]
          },
          "metadata": {},
          "execution_count": 89
        }
      ]
    },
    {
      "cell_type": "code",
      "source": [
        "# Creating a series of feature importance value\n",
        "imp_fea = pd.Series(model.feature_importances_, index = X.columns)"
      ],
      "metadata": {
        "id": "ytnySoNJkX20"
      },
      "execution_count": 90,
      "outputs": []
    },
    {
      "cell_type": "code",
      "source": [
        "imp_fea"
      ],
      "metadata": {
        "colab": {
          "base_uri": "https://localhost:8080/"
        },
        "id": "o51W6FxBl0pA",
        "outputId": "f961dbba-9a25-4f37-f5d4-7b02dfe1795b"
      },
      "execution_count": 91,
      "outputs": [
        {
          "output_type": "execute_result",
          "data": {
            "text/plain": [
              "age               0.231314\n",
              "workclass         0.036217\n",
              "education         0.064935\n",
              "education_num     0.080046\n",
              "martial_status    0.073458\n",
              "occupation        0.090248\n",
              "relationship      0.094318\n",
              "race              0.017343\n",
              "gender            0.035183\n",
              "capital_gain      0.099386\n",
              "capital_loss      0.032645\n",
              "hours_per_week    0.128729\n",
              "native_country    0.016179\n",
              "dtype: float64"
            ]
          },
          "metadata": {},
          "execution_count": 91
        }
      ]
    },
    {
      "cell_type": "code",
      "source": [
        "# Plotting Top 12 features w.r.t. the Target\n",
        "imp_fea.nlargest(13).plot(kind='barh')\n",
        "plt.xlabel(\"Feature Importance\")\n",
        "plt.ylabel(\"Feature\")\n",
        "plt.title(\"Feature Importance Graph\")"
      ],
      "metadata": {
        "colab": {
          "base_uri": "https://localhost:8080/",
          "height": 490
        },
        "id": "OYdu3ivWn41Y",
        "outputId": "42e273b6-6472-4525-8042-634dda7baa61"
      },
      "execution_count": 92,
      "outputs": [
        {
          "output_type": "execute_result",
          "data": {
            "text/plain": [
              "Text(0.5, 1.0, 'Feature Importance Graph')"
            ]
          },
          "metadata": {},
          "execution_count": 92
        },
        {
          "output_type": "display_data",
          "data": {
            "text/plain": [
              "<Figure size 640x480 with 1 Axes>"
            ],
            "image/png": "[encoded data removed]"
          },
          "metadata": {}
        }
      ]
    },
    {
      "cell_type": "markdown",
      "source": [
        "* As there is no big change  between the features except the age, so we are considering all the features."
      ],
      "metadata": {
        "id": "rOCrM-oJp0dv"
      }
    },
    {
      "cell_type": "markdown",
      "metadata": {
        "id": "rzdDWIk-2dKo"
      },
      "source": [
        "# MODEL SELECTION\n",
        "\n",
        "* Defining the model/algorithm"
      ]
    },
    {
      "cell_type": "code",
      "execution_count": 93,
      "metadata": {
        "id": "iQq2T03I2hHR"
      },
      "outputs": [],
      "source": [
        "nbc = GaussianNB()\n",
        "lr = LogisticRegression()\n",
        "svc = SVC()\n",
        "dc = DecisionTreeClassifier()\n",
        "rfc = RandomForestClassifier()\n",
        "knn = KNeighborsClassifier()"
      ]
    },
    {
      "cell_type": "markdown",
      "metadata": {
        "id": "97UVp2e6Z8L9"
      },
      "source": [
        "# Splitting the dataset into training and testing sets"
      ]
    },
    {
      "cell_type": "code",
      "execution_count": 94,
      "metadata": {
        "id": "ydTVROP8YhLK"
      },
      "outputs": [],
      "source": [
        "X_train, X_test, y_train, y_test = train_test_split(X, y, test_size = 0.20, random_state = 42)"
      ]
    },
    {
      "cell_type": "code",
      "execution_count": 95,
      "metadata": {
        "colab": {
          "base_uri": "https://localhost:8080/"
        },
        "id": "D_V_xDkKYhPo",
        "outputId": "a52e8c3d-bce0-4fe8-a0e8-c741b16b643c"
      },
      "outputs": [
        {
          "output_type": "execute_result",
          "data": {
            "text/plain": [
              "26048"
            ]
          },
          "metadata": {},
          "execution_count": 95
        }
      ],
      "source": [
        "# Length of X_train\n",
        "len(X_train)"
      ]
    },
    {
      "cell_type": "code",
      "execution_count": 96,
      "metadata": {
        "colab": {
          "base_uri": "https://localhost:8080/"
        },
        "id": "PJtj4b4nav0z",
        "outputId": "8ac852de-d058-497d-d854-d6da1ea3d7ca"
      },
      "outputs": [
        {
          "output_type": "execute_result",
          "data": {
            "text/plain": [
              "6512"
            ]
          },
          "metadata": {},
          "execution_count": 96
        }
      ],
      "source": [
        "# Length of X_test\n",
        "len(X_test)"
      ]
    },
    {
      "cell_type": "markdown",
      "metadata": {
        "id": "IImefilIbu0d"
      },
      "source": [
        "# Training the model"
      ]
    },
    {
      "cell_type": "code",
      "source": [
        "nbc.fit(X_train, y_train)\n",
        "lr.fit(X_train, y_train)\n",
        "svc.fit(X_train, y_train)\n",
        "dc.fit(X_train, y_train)\n",
        "rfc.fit(X_train, y_train)\n",
        "knn.fit(X_train, y_train)"
      ],
      "metadata": {
        "colab": {
          "base_uri": "https://localhost:8080/",
          "height": 220
        },
        "id": "qKDpYghOpzjO",
        "outputId": "7ccad59c-dc09-465d-ef45-86a81623cfc8"
      },
      "execution_count": 97,
      "outputs": [
        {
          "output_type": "stream",
          "name": "stderr",
          "text": [
            "/usr/local/lib/python3.10/dist-packages/sklearn/linear_model/_logistic.py:458: ConvergenceWarning: lbfgs failed to converge (status=1):\n",
            "STOP: TOTAL NO. of ITERATIONS REACHED LIMIT.\n",
            "\n",
            "Increase the number of iterations (max_iter) or scale the data as shown in:\n",
            "    https://scikit-learn.org/stable/modules/preprocessing.html\n",
            "Please also refer to the documentation for alternative solver options:\n",
            "    https://scikit-learn.org/stable/modules/linear_model.html#logistic-regression\n",
            "  n_iter_i = _check_optimize_result(\n"
          ]
        },
        {
          "output_type": "execute_result",
          "data": {
            "text/plain": [
              "KNeighborsClassifier()"
            ],
            "text/html": [
              "<style>#sk-container-id-2 {color: black;background-color: white;}#sk-container-id-2 pre{padding: 0;}#sk-container-id-2 div.sk-toggleable {background-color: white;}#sk-container-id-2 label.sk-toggleable__label {cursor: pointer;display: block;width: 100%;margin-bottom: 0;padding: 0.3em;box-sizing: border-box;text-align: center;}#sk-container-id-2 label.sk-toggleable__label-arrow:before {content: \"▸\";float: left;margin-right: 0.25em;color: #696969;}#sk-container-id-2 label.sk-toggleable__label-arrow:hover:before {color: black;}#sk-container-id-2 div.sk-estimator:hover label.sk-toggleable__label-arrow:before {color: black;}#sk-container-id-2 div.sk-toggleable__content {max-height: 0;max-width: 0;overflow: hidden;text-align: left;background-color: #f0f8ff;}#sk-container-id-2 div.sk-toggleable__content pre {margin: 0.2em;color: black;border-radius: 0.25em;background-color: #f0f8ff;}#sk-container-id-2 input.sk-toggleable__control:checked~div.sk-toggleable__content {max-height: 200px;max-width: 100%;overflow: auto;}#sk-container-id-2 input.sk-toggleable__control:checked~label.sk-toggleable__label-arrow:before {content: \"▾\";}#sk-container-id-2 div.sk-estimator input.sk-toggleable__control:checked~label.sk-toggleable__label {background-color: #d4ebff;}#sk-container-id-2 div.sk-label input.sk-toggleable__control:checked~label.sk-toggleable__label {background-color: #d4ebff;}#sk-container-id-2 input.sk-hidden--visually {border: 0;clip: rect(1px 1px 1px 1px);clip: rect(1px, 1px, 1px, 1px);height: 1px;margin: -1px;overflow: hidden;padding: 0;position: absolute;width: 1px;}#sk-container-id-2 div.sk-estimator {font-family: monospace;background-color: #f0f8ff;border: 1px dotted black;border-radius: 0.25em;box-sizing: border-box;margin-bottom: 0.5em;}#sk-container-id-2 div.sk-estimator:hover {background-color: #d4ebff;}#sk-container-id-2 div.sk-parallel-item::after {content: \"\";width: 100%;border-bottom: 1px solid gray;flex-grow: 1;}#sk-container-id-2 div.sk-label:hover label.sk-toggleable__label {background-color: #d4ebff;}#sk-container-id-2 div.sk-serial::before {content: \"\";position: absolute;border-left: 1px solid gray;box-sizing: border-box;top: 0;bottom: 0;left: 50%;z-index: 0;}#sk-container-id-2 div.sk-serial {display: flex;flex-direction: column;align-items: center;background-color: white;padding-right: 0.2em;padding-left: 0.2em;position: relative;}#sk-container-id-2 div.sk-item {position: relative;z-index: 1;}#sk-container-id-2 div.sk-parallel {display: flex;align-items: stretch;justify-content: center;background-color: white;position: relative;}#sk-container-id-2 div.sk-item::before, #sk-container-id-2 div.sk-parallel-item::before {content: \"\";position: absolute;border-left: 1px solid gray;box-sizing: border-box;top: 0;bottom: 0;left: 50%;z-index: -1;}#sk-container-id-2 div.sk-parallel-item {display: flex;flex-direction: column;z-index: 1;position: relative;background-color: white;}#sk-container-id-2 div.sk-parallel-item:first-child::after {align-self: flex-end;width: 50%;}#sk-container-id-2 div.sk-parallel-item:last-child::after {align-self: flex-start;width: 50%;}#sk-container-id-2 div.sk-parallel-item:only-child::after {width: 0;}#sk-container-id-2 div.sk-dashed-wrapped {border: 1px dashed gray;margin: 0 0.4em 0.5em 0.4em;box-sizing: border-box;padding-bottom: 0.4em;background-color: white;}#sk-container-id-2 div.sk-label label {font-family: monospace;font-weight: bold;display: inline-block;line-height: 1.2em;}#sk-container-id-2 div.sk-label-container {text-align: center;}#sk-container-id-2 div.sk-container {/* jupyter's `normalize.less` sets `[hidden] { display: none; }` but bootstrap.min.css set `[hidden] { display: none !important; }` so we also need the `!important` here to be able to override the default hidden behavior on the sphinx rendered scikit-learn.org. See: https://github.com/scikit-learn/scikit-learn/issues/21755 */display: inline-block !important;position: relative;}#sk-container-id-2 div.sk-text-repr-fallback {display: none;}</style><div id=\"sk-container-id-2\" class=\"sk-top-container\"><div class=\"sk-text-repr-fallback\"><pre>KNeighborsClassifier()</pre><b>In a Jupyter environment, please rerun this cell to show the HTML representation or trust the notebook. <br />On GitHub, the HTML representation is unable to render, please try loading this page with nbviewer.org.</b></div><div class=\"sk-container\" hidden><div class=\"sk-item\"><div class=\"sk-estimator sk-toggleable\"><input class=\"sk-toggleable__control sk-hidden--visually\" id=\"sk-estimator-id-2\" type=\"checkbox\" checked><label for=\"sk-estimator-id-2\" class=\"sk-toggleable__label sk-toggleable__label-arrow\">KNeighborsClassifier</label><div class=\"sk-toggleable__content\"><pre>KNeighborsClassifier()</pre></div></div></div></div></div>"
            ]
          },
          "metadata": {},
          "execution_count": 97
        }
      ]
    },
    {
      "cell_type": "markdown",
      "source": [
        "# Testing phase"
      ],
      "metadata": {
        "id": "68HMVSvzsbLx"
      }
    },
    {
      "cell_type": "code",
      "source": [
        "# Making prediction\n",
        "nbc_y_pred = nbc.predict(X_test)\n",
        "lr_y_pred = lr.predict(X_test)\n",
        "svc_y_pred = svc.predict(X_test)\n",
        "dc_y_pred = dc.predict(X_test)\n",
        "rfc_y_pred = rfc.predict(X_test)\n",
        "knn_y_pred = knn.predict(X_test)"
      ],
      "metadata": {
        "id": "84tUC6iCpzmT"
      },
      "execution_count": 98,
      "outputs": []
    },
    {
      "cell_type": "code",
      "source": [
        "# Creating the dataframe\n",
        "prediction = pd.DataFrame({\n",
        "    'Actual': y_test,\n",
        "    'NBC': nbc_y_pred,\n",
        "    'LR': lr_y_pred,\n",
        "    'SVC': svc_y_pred,\n",
        "    'DTC': dc_y_pred,\n",
        "    'RFC': rfc_y_pred,\n",
        "    'KNN': knn_y_pred\n",
        "})"
      ],
      "metadata": {
        "id": "49vYBU0YpzsR"
      },
      "execution_count": 99,
      "outputs": []
    },
    {
      "cell_type": "code",
      "source": [
        "prediction"
      ],
      "metadata": {
        "colab": {
          "base_uri": "https://localhost:8080/",
          "height": 423
        },
        "id": "zkrRBB89pzuP",
        "outputId": "1ffdad2d-b0c0-4492-89ae-ea99469f47e4"
      },
      "execution_count": 100,
      "outputs": [
        {
          "output_type": "execute_result",
          "data": {
            "text/plain": [
              "       Actual  NBC  LR  SVC  DTC  RFC  KNN\n",
              "14160       0    0   0    0    0    0    0\n",
              "27047       0    0   0    0    1    1    1\n",
              "28867       1    0   0    0    0    1    0\n",
              "5667        1    0   0    0    1    0    0\n",
              "7827        0    0   0    0    1    0    0\n",
              "...       ...  ...  ..  ...  ...  ...  ...\n",
              "13307       1    0   0    0    0    0    1\n",
              "1338        0    0   0    0    0    0    0\n",
              "24534       0    0   0    0    0    0    0\n",
              "18080       0    0   0    0    0    0    0\n",
              "10354       1    0   1    0    0    1    1\n",
              "\n",
              "[6512 rows x 7 columns]"
            ],
            "text/html": [
              "\n",
              "  <div id=\"df-c8a67f4f-5478-4b62-a3e5-4b7f0e0602f7\">\n",
              "    <div class=\"colab-df-container\">\n",
              "      <div>\n",
              "<style scoped>\n",
              "    .dataframe tbody tr th:only-of-type {\n",
              "        vertical-align: middle;\n",
              "    }\n",
              "\n",
              "    .dataframe tbody tr th {\n",
              "        vertical-align: top;\n",
              "    }\n",
              "\n",
              "    .dataframe thead th {\n",
              "        text-align: right;\n",
              "    }\n",
              "</style>\n",
              "<table border=\"1\" class=\"dataframe\">\n",
              "  <thead>\n",
              "    <tr style=\"text-align: right;\">\n",
              "      <th></th>\n",
              "      <th>Actual</th>\n",
              "      <th>NBC</th>\n",
              "      <th>LR</th>\n",
              "      <th>SVC</th>\n",
              "      <th>DTC</th>\n",
              "      <th>RFC</th>\n",
              "      <th>KNN</th>\n",
              "    </tr>\n",
              "  </thead>\n",
              "  <tbody>\n",
              "    <tr>\n",
              "      <th>14160</th>\n",
              "      <td>0</td>\n",
              "      <td>0</td>\n",
              "      <td>0</td>\n",
              "      <td>0</td>\n",
              "      <td>0</td>\n",
              "      <td>0</td>\n",
              "      <td>0</td>\n",
              "    </tr>\n",
              "    <tr>\n",
              "      <th>27047</th>\n",
              "      <td>0</td>\n",
              "      <td>0</td>\n",
              "      <td>0</td>\n",
              "      <td>0</td>\n",
              "      <td>1</td>\n",
              "      <td>1</td>\n",
              "      <td>1</td>\n",
              "    </tr>\n",
              "    <tr>\n",
              "      <th>28867</th>\n",
              "      <td>1</td>\n",
              "      <td>0</td>\n",
              "      <td>0</td>\n",
              "      <td>0</td>\n",
              "      <td>0</td>\n",
              "      <td>1</td>\n",
              "      <td>0</td>\n",
              "    </tr>\n",
              "    <tr>\n",
              "      <th>5667</th>\n",
              "      <td>1</td>\n",
              "      <td>0</td>\n",
              "      <td>0</td>\n",
              "      <td>0</td>\n",
              "      <td>1</td>\n",
              "      <td>0</td>\n",
              "      <td>0</td>\n",
              "    </tr>\n",
              "    <tr>\n",
              "      <th>7827</th>\n",
              "      <td>0</td>\n",
              "      <td>0</td>\n",
              "      <td>0</td>\n",
              "      <td>0</td>\n",
              "      <td>1</td>\n",
              "      <td>0</td>\n",
              "      <td>0</td>\n",
              "    </tr>\n",
              "    <tr>\n",
              "      <th>...</th>\n",
              "      <td>...</td>\n",
              "      <td>...</td>\n",
              "      <td>...</td>\n",
              "      <td>...</td>\n",
              "      <td>...</td>\n",
              "      <td>...</td>\n",
              "      <td>...</td>\n",
              "    </tr>\n",
              "    <tr>\n",
              "      <th>13307</th>\n",
              "      <td>1</td>\n",
              "      <td>0</td>\n",
              "      <td>0</td>\n",
              "      <td>0</td>\n",
              "      <td>0</td>\n",
              "      <td>0</td>\n",
              "      <td>1</td>\n",
              "    </tr>\n",
              "    <tr>\n",
              "      <th>1338</th>\n",
              "      <td>0</td>\n",
              "      <td>0</td>\n",
              "      <td>0</td>\n",
              "      <td>0</td>\n",
              "      <td>0</td>\n",
              "      <td>0</td>\n",
              "      <td>0</td>\n",
              "    </tr>\n",
              "    <tr>\n",
              "      <th>24534</th>\n",
              "      <td>0</td>\n",
              "      <td>0</td>\n",
              "      <td>0</td>\n",
              "      <td>0</td>\n",
              "      <td>0</td>\n",
              "      <td>0</td>\n",
              "      <td>0</td>\n",
              "    </tr>\n",
              "    <tr>\n",
              "      <th>18080</th>\n",
              "      <td>0</td>\n",
              "      <td>0</td>\n",
              "      <td>0</td>\n",
              "      <td>0</td>\n",
              "      <td>0</td>\n",
              "      <td>0</td>\n",
              "      <td>0</td>\n",
              "    </tr>\n",
              "    <tr>\n",
              "      <th>10354</th>\n",
              "      <td>1</td>\n",
              "      <td>0</td>\n",
              "      <td>1</td>\n",
              "      <td>0</td>\n",
              "      <td>0</td>\n",
              "      <td>1</td>\n",
              "      <td>1</td>\n",
              "    </tr>\n",
              "  </tbody>\n",
              "</table>\n",
              "<p>6512 rows × 7 columns</p>\n",
              "</div>\n",
              "      <button class=\"colab-df-convert\" onclick=\"convertToInteractive('df-c8a67f4f-5478-4b62-a3e5-4b7f0e0602f7')\"\n",
              "              title=\"Convert this dataframe to an interactive table.\"\n",
              "              style=\"display:none;\">\n",
              "        \n",
              "  <svg xmlns=\"http://www.w3.org/2000/svg\" height=\"24px\"viewBox=\"0 0 24 24\"\n",
              "       width=\"24px\">\n",
              "    <path d=\"M0 0h24v24H0V0z\" fill=\"none\"/>\n",
              "    <path d=\"M18.56 5.44l.94 2.06.94-2.06 2.06-.94-2.06-.94-.94-2.06-.94 2.06-2.06.94zm-11 1L8.5 8.5l.94-2.06 2.06-.94-2.06-.94L8.5 2.5l-.94 2.06-2.06.94zm10 10l.94 2.06.94-2.06 2.06-.94-2.06-.94-.94-2.06-.94 2.06-2.06.94z\"/><path d=\"M17.41 7.96l-1.37-1.37c-.4-.4-.92-.59-1.43-.59-.52 0-1.04.2-1.43.59L10.3 9.45l-7.72 7.72c-.78.78-.78 2.05 0 2.83L4 21.41c.39.39.9.59 1.41.59.51 0 1.02-.2 1.41-.59l7.78-7.78 2.81-2.81c.8-.78.8-2.07 0-2.86zM5.41 20L4 18.59l7.72-7.72 1.47 1.35L5.41 20z\"/>\n",
              "  </svg>\n",
              "      </button>\n",
              "      \n",
              "  <style>\n",
              "    .colab-df-container {\n",
              "      display:flex;\n",
              "      flex-wrap:wrap;\n",
              "      gap: 12px;\n",
              "    }\n",
              "\n",
              "    .colab-df-convert {\n",
              "      background-color: #E8F0FE;\n",
              "      border: none;\n",
              "      border-radius: 50%;\n",
              "      cursor: pointer;\n",
              "      display: none;\n",
              "      fill: #1967D2;\n",
              "      height: 32px;\n",
              "      padding: 0 0 0 0;\n",
              "      width: 32px;\n",
              "    }\n",
              "\n",
              "    .colab-df-convert:hover {\n",
              "      background-color: #E2EBFA;\n",
              "      box-shadow: 0px 1px 2px rgba(60, 64, 67, 0.3), 0px 1px 3px 1px rgba(60, 64, 67, 0.15);\n",
              "      fill: #174EA6;\n",
              "    }\n",
              "\n",
              "    [theme=dark] .colab-df-convert {\n",
              "      background-color: #3B4455;\n",
              "      fill: #D2E3FC;\n",
              "    }\n",
              "\n",
              "    [theme=dark] .colab-df-convert:hover {\n",
              "      background-color: #434B5C;\n",
              "      box-shadow: 0px 1px 3px 1px rgba(0, 0, 0, 0.15);\n",
              "      filter: drop-shadow(0px 1px 2px rgba(0, 0, 0, 0.3));\n",
              "      fill: #FFFFFF;\n",
              "    }\n",
              "  </style>\n",
              "\n",
              "      <script>\n",
              "        const buttonEl =\n",
              "          document.querySelector('#df-c8a67f4f-5478-4b62-a3e5-4b7f0e0602f7 button.colab-df-convert');\n",
              "        buttonEl.style.display =\n",
              "          google.colab.kernel.accessAllowed ? 'block' : 'none';\n",
              "\n",
              "        async function convertToInteractive(key) {\n",
              "          const element = document.querySelector('#df-c8a67f4f-5478-4b62-a3e5-4b7f0e0602f7');\n",
              "          const dataTable =\n",
              "            await google.colab.kernel.invokeFunction('convertToInteractive',\n",
              "                                                     [key], {});\n",
              "          if (!dataTable) return;\n",
              "\n",
              "          const docLinkHtml = 'Like what you see? Visit the ' +\n",
              "            '<a target=\"_blank\" href=https://colab.research.google.com/notebooks/data_table.ipynb>data table notebook</a>'\n",
              "            + ' to learn more about interactive tables.';\n",
              "          element.innerHTML = '';\n",
              "          dataTable['output_type'] = 'display_data';\n",
              "          await google.colab.output.renderOutput(dataTable, element);\n",
              "          const docLink = document.createElement('div');\n",
              "          docLink.innerHTML = docLinkHtml;\n",
              "          element.appendChild(docLink);\n",
              "        }\n",
              "      </script>\n",
              "    </div>\n",
              "  </div>\n",
              "  "
            ]
          },
          "metadata": {},
          "execution_count": 100
        }
      ]
    },
    {
      "cell_type": "markdown",
      "source": [
        "# Performance"
      ],
      "metadata": {
        "id": "T1pVkIFjtTZE"
      }
    },
    {
      "cell_type": "code",
      "source": [
        "print(f'NBC: {accuracy_score(y_test, nbc_y_pred)}')\n",
        "print(f'LR: {accuracy_score(y_test, lr_y_pred)}')\n",
        "print(f'SVC: {accuracy_score(y_test, svc_y_pred)}')\n",
        "print(f'DTC: {accuracy_score(y_test, dc_y_pred)}')\n",
        "print(f'RFC: {accuracy_score(y_test, rfc_y_pred)}')\n",
        "print(f'KNN: {accuracy_score(y_test, knn_y_pred)}')"
      ],
      "metadata": {
        "colab": {
          "base_uri": "https://localhost:8080/"
        },
        "id": "Q7X-zgYppzwQ",
        "outputId": "518c65d0-51be-4bdf-ba26-628c04f66b98"
      },
      "execution_count": 101,
      "outputs": [
        {
          "output_type": "stream",
          "name": "stdout",
          "text": [
            "NBC: 0.8088144963144963\n",
            "LR: 0.7977579852579852\n",
            "SVC: 0.8023648648648649\n",
            "DTC: 0.8135749385749386\n",
            "RFC: 0.8508906633906634\n",
            "KNN: 0.8415233415233415\n"
          ]
        }
      ]
    },
    {
      "cell_type": "markdown",
      "source": [
        "* The accuracy score for:\n",
        "\n",
        "\n",
        "1. NBC -> 81%\n",
        "6. LR -> 80%\n",
        "4. SVC -> 80%\n",
        "2. DTC -> 81%\n",
        "3. RFC -> 85%\n",
        "5. KNN -> 84%\n",
        "\n",
        "\n"
      ],
      "metadata": {
        "id": "lTJHg-KYuCnr"
      }
    },
    {
      "cell_type": "markdown",
      "source": [
        "# Applying cross validation for Naive Bayes Model"
      ],
      "metadata": {
        "id": "lfUGQCMWOawX"
      }
    },
    {
      "cell_type": "code",
      "source": [
        "# Accuracy score for setting the value of k as 1\n",
        "score = cross_val_score(nbc, X, y, cv=50)"
      ],
      "metadata": {
        "id": "x-gtf30K74WQ"
      },
      "execution_count": 102,
      "outputs": []
    },
    {
      "cell_type": "code",
      "source": [
        "score"
      ],
      "metadata": {
        "colab": {
          "base_uri": "https://localhost:8080/"
        },
        "id": "qBGjPvFP74ZO",
        "outputId": "53cdc5ff-9166-4781-9178-17f5ad385b7a"
      },
      "execution_count": 103,
      "outputs": [
        {
          "output_type": "execute_result",
          "data": {
            "text/plain": [
              "array([0.79447853, 0.80521472, 0.80368098, 0.80981595, 0.80368098,\n",
              "       0.80214724, 0.79447853, 0.81595092, 0.79907975, 0.80828221,\n",
              "       0.80030722, 0.78955453, 0.81105991, 0.79723502, 0.80952381,\n",
              "       0.79877112, 0.81105991, 0.80030722, 0.8156682 , 0.80337942,\n",
              "       0.81259601, 0.8156682 , 0.80030722, 0.80030722, 0.78648233,\n",
              "       0.80030722, 0.80337942, 0.81105991, 0.81105991, 0.82642089,\n",
              "       0.79416283, 0.79723502, 0.77265745, 0.78801843, 0.80184332,\n",
              "       0.78648233, 0.82795699, 0.79416283, 0.8202765 , 0.79877112,\n",
              "       0.80491551, 0.80952381, 0.80337942, 0.80184332, 0.79569892,\n",
              "       0.8202765 , 0.8172043 , 0.79877112, 0.8187404 , 0.82334869])"
            ]
          },
          "metadata": {},
          "execution_count": 103
        }
      ]
    },
    {
      "cell_type": "code",
      "source": [
        "# Minimum accuracy\n",
        "min(score)"
      ],
      "metadata": {
        "colab": {
          "base_uri": "https://localhost:8080/"
        },
        "id": "ZIBNMYnz6jL4",
        "outputId": "537b9761-6f56-4ed4-d3c4-1f56cf98b513"
      },
      "execution_count": 104,
      "outputs": [
        {
          "output_type": "execute_result",
          "data": {
            "text/plain": [
              "0.7726574500768049"
            ]
          },
          "metadata": {},
          "execution_count": 104
        }
      ]
    },
    {
      "cell_type": "code",
      "source": [
        "# Maximum accuracy\n",
        "max(score)"
      ],
      "metadata": {
        "colab": {
          "base_uri": "https://localhost:8080/"
        },
        "id": "1xQemwmU6lio",
        "outputId": "6bf17a71-dbc3-44c9-bf1b-fc19fdc24ecf"
      },
      "execution_count": 105,
      "outputs": [
        {
          "output_type": "execute_result",
          "data": {
            "text/plain": [
              "0.8279569892473119"
            ]
          },
          "metadata": {},
          "execution_count": 105
        }
      ]
    },
    {
      "cell_type": "code",
      "source": [
        "# Mean accuracy\n",
        "score.mean()"
      ],
      "metadata": {
        "colab": {
          "base_uri": "https://localhost:8080/"
        },
        "id": "THWOMlkj6oSv",
        "outputId": "9f9b5ee7-ecdb-4d0c-9aeb-adbb6b25af42"
      },
      "execution_count": 106,
      "outputs": [
        {
          "output_type": "execute_result",
          "data": {
            "text/plain": [
              "0.8043306663651013"
            ]
          },
          "metadata": {},
          "execution_count": 106
        }
      ]
    }
  ]
}